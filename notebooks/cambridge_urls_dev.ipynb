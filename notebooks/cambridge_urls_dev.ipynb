{
 "cells": [
  {
   "cell_type": "code",
   "execution_count": 1,
   "metadata": {},
   "outputs": [],
   "source": [
    "import requests\n",
    "from bs4 import BeautifulSoup\n",
    "import os"
   ]
  },
  {
   "cell_type": "code",
   "execution_count": 15,
   "metadata": {},
   "outputs": [],
   "source": [
    "headers = { 'User-Agent': 'Mozilla/5.0 (Windows NT 6.0; WOW64; rv:24.0) Gecko/20100101 Firefox/24.0' }\n",
    "\n",
    "home_url = 'https://dictionary.cambridge.org/browse/english-chinese-traditional/'\n",
    "alphabet = 'a/a'\n",
    "res = requests.get(os.path.join(home_url, alphabet), headers=headers)\n",
    "bs = BeautifulSoup(res.text, 'html.parser')"
   ]
  },
  {
   "cell_type": "code",
   "execution_count": 8,
   "metadata": {},
   "outputs": [
    {
     "name": "stdout",
     "output_type": "stream",
     "text": [
      "Help on method find_all in module bs4.element:\n",
      "\n",
      "find_all(name=None, attrs={}, recursive=True, text=None, limit=None, **kwargs) method of bs4.BeautifulSoup instance\n",
      "    Look in the children of this PageElement and find all\n",
      "    PageElements that match the given criteria.\n",
      "    \n",
      "    All find_* methods take a common set of arguments. See the online\n",
      "    documentation for detailed explanations.\n",
      "    \n",
      "    :param name: A filter on tag name.\n",
      "    :param attrs: A dictionary of filters on attribute values.\n",
      "    :param recursive: If this is True, find_all() will perform a\n",
      "        recursive search of this PageElement's children. Otherwise,\n",
      "        only the direct children will be considered.\n",
      "    :param limit: Stop looking after finding this many results.\n",
      "    :kwargs: A dictionary of filters on attribute values.\n",
      "    :return: A ResultSet of PageElements.\n",
      "    :rtype: bs4.element.ResultSet\n",
      "\n"
     ]
    }
   ],
   "source": [
    "help(bs.findAll)"
   ]
  },
  {
   "cell_type": "code",
   "execution_count": 11,
   "metadata": {},
   "outputs": [
    {
     "data": {
      "text/plain": [
       "'https://dictionary.cambridge.org/browse/english-chinese-traditional/a/acquisitive/'"
      ]
     },
     "execution_count": 11,
     "metadata": {},
     "output_type": "execute_result"
    }
   ],
   "source": [
    "li_list = bs.findAll('li', {'class': 'han t-i'})\n",
    "li_list[10].findAll('a')[0].get('href')"
   ]
  },
  {
   "cell_type": "code",
   "execution_count": 9,
   "metadata": {},
   "outputs": [
    {
     "data": {
      "text/plain": [
       "'https://dictionary.cambridge.org/dictionary/english-chinese-traditional/a-bird-in-the-hand-is-worth-two-in-the-bush'"
      ]
     },
     "execution_count": 9,
     "metadata": {},
     "output_type": "execute_result"
    }
   ],
   "source": [
    "li_list[10].select('a')[0].get('href')"
   ]
  },
  {
   "cell_type": "code",
   "execution_count": 16,
   "metadata": {},
   "outputs": [],
   "source": [
    "li_list = bs.findAll('ul', {'class': 'hul-u'})"
   ]
  },
  {
   "cell_type": "code",
   "execution_count": 30,
   "metadata": {},
   "outputs": [
    {
     "data": {
      "text/plain": [
       "[]"
      ]
     },
     "execution_count": 30,
     "metadata": {},
     "output_type": "execute_result"
    }
   ],
   "source": [
    "li_list[2].findAll('li', {'class': 'han t-i'})"
   ]
  },
  {
   "cell_type": "code",
   "execution_count": 42,
   "metadata": {},
   "outputs": [
    {
     "data": {
      "text/plain": [
       "[]"
      ]
     },
     "execution_count": 42,
     "metadata": {},
     "output_type": "execute_result"
    }
   ],
   "source": [
    "li_list[0].findAll('li', {'class': 'han t-i'})"
   ]
  },
  {
   "cell_type": "code",
   "execution_count": 51,
   "metadata": {
    "collapsed": true,
    "jupyter": {
     "outputs_hidden": true
    }
   },
   "outputs": [
    {
     "data": {
      "text/plain": [
       "[<li class=\"han t-i\">\n",
       " <a class=\"tc-bd\" href=\"https://dictionary.cambridge.org/dictionary/english-chinese-traditional/a\" title=\"a definition in English–Chinese (Traditional)\">\n",
       " <span class=\"entry_title\"><span class=\"results\"><span class=\"base\"><span class=\"hw haf\">a</span></span></span></span>\n",
       " </a>\n",
       " </li>,\n",
       " <li class=\"han t-i\">\n",
       " <a class=\"tc-bd\" href=\"https://dictionary.cambridge.org/dictionary/english-chinese-traditional/a-e\" title=\"A &amp; E definition in English–Chinese (Traditional)\">\n",
       " <span class=\"entry_title\"><span class=\"results\"><span class=\"base\"><span class=\"hw haf\">A &amp; E</span></span></span></span>\n",
       " </a>\n",
       " </li>,\n",
       " <li class=\"han t-i\">\n",
       " <a class=\"tc-bd\" href=\"https://dictionary.cambridge.org/dictionary/english-chinese-traditional/a-heavy-cross-to-bear\" title=\"a (heavy) cross to bear idiom definition in English–Chinese (Traditional)\">\n",
       " <span class=\"entry_title\"><span class=\"results\"><span class=\"base\"><span class=\"phrase haf\">a (heavy) cross to bear</span></span> <span class=\"pos\">idiom</span></span></span>\n",
       " </a>\n",
       " </li>,\n",
       " <li class=\"han t-i\">\n",
       " <a class=\"tc-bd\" href=\"https://dictionary.cambridge.org/dictionary/english-chinese-traditional/a-quick-brisk-trot-through-sth\" title=\"a (quick/brisk) trot through sth idiom definition in English–Chinese (Traditional)\">\n",
       " <span class=\"entry_title\"><span class=\"results\"><span class=\"base\"><span class=\"phrase haf\">a (quick/brisk) trot through <span class=\"obj\">sth</span></span></span> <span class=\"pos\">idiom</span></span></span>\n",
       " </a>\n",
       " </li>,\n",
       " <li class=\"han t-i\">\n",
       " <a class=\"tc-bd\" href=\"https://dictionary.cambridge.org/dictionary/english-chinese-traditional/a-whole-heap-of-sth\" title=\"a (whole) heap of sth idiom definition in English–Chinese (Traditional)\">\n",
       " <span class=\"entry_title\"><span class=\"results\"><span class=\"base\"><span class=\"phrase haf\">a (whole) heap of <span class=\"obj\">sth</span></span></span> <span class=\"pos\">idiom</span></span></span>\n",
       " </a>\n",
       " </li>,\n",
       " <li class=\"han t-i\">\n",
       " <a class=\"tc-bd\" href=\"https://dictionary.cambridge.org/dictionary/english-chinese-traditional/a-bad-workman-blames-his-tools\" title=\"a bad workman blames his tools idiom definition in English–Chinese (Traditional)\">\n",
       " <span class=\"entry_title\"><span class=\"results\"><span class=\"base\"><span class=\"phrase haf\">a bad workman blames his tools</span></span> <span class=\"pos\">idiom</span></span></span>\n",
       " </a>\n",
       " </li>,\n",
       " <li class=\"han t-i\">\n",
       " <a class=\"tc-bd\" href=\"https://dictionary.cambridge.org/dictionary/english-chinese-traditional/a-banner-year-season-month-week\" title=\"a banner year/season/month/week idiom definition in English–Chinese (Traditional)\">\n",
       " <span class=\"entry_title\"><span class=\"results\"><span class=\"base\"><span class=\"phrase haf\">a banner year/season/month/week</span></span> <span class=\"pos\">idiom</span></span></span>\n",
       " </a>\n",
       " </li>,\n",
       " <li class=\"han t-i\">\n",
       " <a class=\"tc-bd\" href=\"https://dictionary.cambridge.org/dictionary/english-chinese-traditional/a-baptism-of-by-fire\" title=\"a baptism of/by fire idiom definition in English–Chinese (Traditional)\">\n",
       " <span class=\"entry_title\"><span class=\"results\"><span class=\"base\"><span class=\"phrase haf\">a baptism of/by fire</span></span> <span class=\"pos\">idiom</span></span></span>\n",
       " </a>\n",
       " </li>,\n",
       " <li class=\"han t-i\">\n",
       " <a class=\"tc-bd\" href=\"https://dictionary.cambridge.org/dictionary/english-chinese-traditional/a-big-ask\" title=\"a big ask idiom definition in English–Chinese (Traditional)\">\n",
       " <span class=\"entry_title\"><span class=\"results\"><span class=\"base\"><span class=\"phrase haf\">a big ask</span></span> <span class=\"pos\">idiom</span></span></span>\n",
       " </a>\n",
       " </li>,\n",
       " <li class=\"han t-i\">\n",
       " <a (traditional)'=\"\" blouse=\"\" class=\"tc-bd\" definition=\"\" english&ndash;chinese=\"\" href=\"https://dictionary.cambridge.org/dictionary/english-chinese-traditional/a-big-great-girl-s-blouse\" idiom=\"\" in=\"\" s=\"\" title=\"a big/great girl\">\n",
       " <span class=\"entry_title\"><span class=\"results\"><span class=\"base\"><span class=\"phrase haf\">a big/great girl's blouse</span></span> <span class=\"pos\">idiom</span></span></span>\n",
       " </a>\n",
       " </li>,\n",
       " <li class=\"han t-i\">\n",
       " <a class=\"tc-bd\" href=\"https://dictionary.cambridge.org/dictionary/english-chinese-traditional/a-bird-in-the-hand-is-worth-two-in-the-bush\" title=\"a bird in the hand (is worth two in the bush) idiom definition in English–Chinese (Traditional)\">\n",
       " <span class=\"entry_title\"><span class=\"results\"><span class=\"base\"><span class=\"phrase haf\">a bird in the hand (is worth two in the bush)</span></span> <span class=\"pos\">idiom</span></span></span>\n",
       " </a>\n",
       " </li>,\n",
       " <li class=\"han t-i\">\n",
       " <a (traditional)'=\"\" class=\"tc-bd\" definition=\"\" english&ndash;chinese=\"\" eye=\"\" href=\"https://dictionary.cambridge.org/dictionary/english-chinese-traditional/a-bird-s-eye-view\" idiom=\"\" in=\"\" s=\"\" title=\"a bird\" view=\"\">\n",
       " <span class=\"entry_title\"><span class=\"results\"><span class=\"base\"><span class=\"phrase haf\">a bird's eye view</span></span> <span class=\"pos\">idiom</span></span></span>\n",
       " </a>\n",
       " </li>,\n",
       " <li class=\"han t-i\">\n",
       " <a class=\"tc-bd\" href=\"https://dictionary.cambridge.org/dictionary/english-chinese-traditional/a-bit-of-a-lad\" title=\"a bit of a lad idiom definition in English–Chinese (Traditional)\">\n",
       " <span class=\"entry_title\"><span class=\"results\"><span class=\"base\"><span class=\"phrase haf\">a bit of a lad</span></span> <span class=\"pos\">idiom</span></span></span>\n",
       " </a>\n",
       " </li>,\n",
       " <li class=\"han t-i\">\n",
       " <a class=\"tc-bd\" href=\"https://dictionary.cambridge.org/dictionary/english-chinese-traditional/a-bit-of-fluff-stuff-skirt\" title=\"a bit of fluff/stuff/skirt idiom definition in English–Chinese (Traditional)\">\n",
       " <span class=\"entry_title\"><span class=\"results\"><span class=\"base\"><span class=\"phrase haf\">a bit of fluff/stuff/skirt</span></span> <span class=\"pos\">idiom</span></span></span>\n",
       " </a>\n",
       " </li>,\n",
       " <li class=\"han t-i\">\n",
       " <a class=\"tc-bd\" href=\"https://dictionary.cambridge.org/dictionary/english-chinese-traditional/a-bit-of-rough\" title=\"a bit of rough idiom definition in English–Chinese (Traditional)\">\n",
       " <span class=\"entry_title\"><span class=\"results\"><span class=\"base\"><span class=\"phrase haf\">a bit of rough</span></span> <span class=\"pos\">idiom</span></span></span>\n",
       " </a>\n",
       " </li>,\n",
       " <li class=\"han t-i\">\n",
       " <a class=\"tc-bd\" href=\"https://dictionary.cambridge.org/dictionary/english-chinese-traditional/a-bit-on-the-side\" title=\"a bit on the side idiom definition in English–Chinese (Traditional)\">\n",
       " <span class=\"entry_title\"><span class=\"results\"><span class=\"base\"><span class=\"phrase haf\">a bit on the side</span></span> <span class=\"pos\">idiom</span></span></span>\n",
       " </a>\n",
       " </li>,\n",
       " <li class=\"han t-i\">\n",
       " <a class=\"tc-bd\" href=\"https://dictionary.cambridge.org/dictionary/english-chinese-traditional/a-bitter-pill-to-swallow\" title=\"a bitter pill (to swallow) idiom definition in English–Chinese (Traditional)\">\n",
       " <span class=\"entry_title\"><span class=\"results\"><span class=\"base\"><span class=\"phrase haf\">a bitter pill (to swallow)</span></span> <span class=\"pos\">idiom</span></span></span>\n",
       " </a>\n",
       " </li>,\n",
       " <li class=\"han t-i\">\n",
       " <a class=\"tc-bd\" href=\"https://dictionary.cambridge.org/dictionary/english-chinese-traditional/a-blanket-of-sth\" title=\"a blanket of sth idiom definition in English–Chinese (Traditional)\">\n",
       " <span class=\"entry_title\"><span class=\"results\"><span class=\"base\"><span class=\"phrase haf\">a blanket of <span class=\"obj\">sth</span></span></span> <span class=\"pos\">idiom</span></span></span>\n",
       " </a>\n",
       " </li>,\n",
       " <li class=\"han t-i\">\n",
       " <a class=\"tc-bd\" href=\"https://dictionary.cambridge.org/dictionary/english-chinese-traditional/a-blast-from-the-past\" title=\"a blast from the past idiom definition in English–Chinese (Traditional)\">\n",
       " <span class=\"entry_title\"><span class=\"results\"><span class=\"base\"><span class=\"phrase haf\">a blast from the past</span></span> <span class=\"pos\">idiom</span></span></span>\n",
       " </a>\n",
       " </li>,\n",
       " <li class=\"han t-i\">\n",
       " <a class=\"tc-bd\" href=\"https://dictionary.cambridge.org/dictionary/english-chinese-traditional/a-blessing-in-disguise\" title=\"a blessing in disguise idiom definition in English–Chinese (Traditional)\">\n",
       " <span class=\"entry_title\"><span class=\"results\"><span class=\"base\"><span class=\"phrase haf\">a blessing in disguise</span></span> <span class=\"pos\">idiom</span></span></span>\n",
       " </a>\n",
       " </li>,\n",
       " <li class=\"han t-i\">\n",
       " <a class=\"tc-bd\" href=\"https://dictionary.cambridge.org/dictionary/english-chinese-traditional/a-blinding-flash\" title=\"a blinding flash idiom definition in English–Chinese (Traditional)\">\n",
       " <span class=\"entry_title\"><span class=\"results\"><span class=\"base\"><span class=\"phrase haf\">a blinding flash</span></span> <span class=\"pos\">idiom</span></span></span>\n",
       " </a>\n",
       " </li>,\n",
       " <li class=\"han t-i\">\n",
       " <a class=\"tc-bd\" href=\"https://dictionary.cambridge.org/dictionary/english-chinese-traditional/a-blitz-on-sth\" title=\"a blitz on sth idiom definition in English–Chinese (Traditional)\">\n",
       " <span class=\"entry_title\"><span class=\"results\"><span class=\"base\"><span class=\"phrase haf\">a blitz on <span class=\"obj\">sth</span></span></span> <span class=\"pos\">idiom</span></span></span>\n",
       " </a>\n",
       " </li>,\n",
       " <li class=\"han t-i\">\n",
       " <a (traditional)'=\"\" character=\"\" class=\"tc-bd\" definition=\"\" english&ndash;chinese=\"\" href=\"https://dictionary.cambridge.org/dictionary/english-chinese-traditional/a-blot-on-sb-s-character\" idiom=\"\" in=\"\" s=\"\" title=\"a blot on sb\">\n",
       " <span class=\"entry_title\"><span class=\"results\"><span class=\"base\"><span class=\"phrase haf\">a blot on <span class=\"obj\">sb's</span> character</span></span> <span class=\"pos\">idiom</span></span></span>\n",
       " </a>\n",
       " </li>,\n",
       " <li class=\"han t-i\">\n",
       " <a class=\"tc-bd\" href=\"https://dictionary.cambridge.org/dictionary/english-chinese-traditional/a-blot-on-the-landscape\" title=\"a blot on the landscape idiom definition in English–Chinese (Traditional)\">\n",
       " <span class=\"entry_title\"><span class=\"results\"><span class=\"base\"><span class=\"phrase haf\">a blot on the landscape</span></span> <span class=\"pos\">idiom</span></span></span>\n",
       " </a>\n",
       " </li>,\n",
       " <li class=\"han t-i\">\n",
       " <a class=\"tc-bd\" href=\"https://dictionary.cambridge.org/dictionary/english-chinese-traditional/a-bolt-from-out-of-the-blue\" title=\"a bolt from/out of the blue idiom definition in English–Chinese (Traditional)\">\n",
       " <span class=\"entry_title\"><span class=\"results\"><span class=\"base\"><span class=\"phrase haf\">a bolt from/out of the blue</span></span> <span class=\"pos\">idiom</span></span></span>\n",
       " </a>\n",
       " </li>]"
      ]
     },
     "execution_count": 51,
     "metadata": {},
     "output_type": "execute_result"
    }
   ],
   "source": [
    "li_list[-3].findAll('li', {'class': 'han t-i'})"
   ]
  }
 ],
 "metadata": {
  "kernelspec": {
   "display_name": "Python 3",
   "language": "python",
   "name": "python3"
  },
  "language_info": {
   "codemirror_mode": {
    "name": "ipython",
    "version": 3
   },
   "file_extension": ".py",
   "mimetype": "text/x-python",
   "name": "python",
   "nbconvert_exporter": "python",
   "pygments_lexer": "ipython3",
   "version": "3.6.10"
  }
 },
 "nbformat": 4,
 "nbformat_minor": 4
}
