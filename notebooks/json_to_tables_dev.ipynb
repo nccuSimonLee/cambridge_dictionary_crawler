{
 "cells": [
  {
   "cell_type": "code",
   "execution_count": 37,
   "metadata": {},
   "outputs": [
    {
     "ename": "ModuleNotFoundError",
     "evalue": "No module named 'pandas'",
     "output_type": "error",
     "traceback": [
      "\u001b[0;31m---------------------------------------------------------------------------\u001b[0m",
      "\u001b[0;31mModuleNotFoundError\u001b[0m                       Traceback (most recent call last)",
      "\u001b[0;32m<ipython-input-37-c1a2b8ed97bb>\u001b[0m in \u001b[0;36m<module>\u001b[0;34m\u001b[0m\n\u001b[1;32m      1\u001b[0m \u001b[0;32mimport\u001b[0m \u001b[0mjson\u001b[0m\u001b[0;34m\u001b[0m\u001b[0;34m\u001b[0m\u001b[0m\n\u001b[0;32m----> 2\u001b[0;31m \u001b[0;32mimport\u001b[0m \u001b[0mpandas\u001b[0m \u001b[0;32mas\u001b[0m \u001b[0mpd\u001b[0m\u001b[0;34m\u001b[0m\u001b[0;34m\u001b[0m\u001b[0m\n\u001b[0m",
      "\u001b[0;31mModuleNotFoundError\u001b[0m: No module named 'pandas'"
     ]
    }
   ],
   "source": [
    "import json\n",
    "import pandas as pd"
   ]
  },
  {
   "cell_type": "code",
   "execution_count": 2,
   "metadata": {},
   "outputs": [],
   "source": [
    "with open('../ScrambleDict/cambridge.word.888.json', 'r') as f:\n",
    "    camb_dict = json.load(f)"
   ]
  },
  {
   "cell_type": "code",
   "execution_count": 5,
   "metadata": {},
   "outputs": [],
   "source": [
    "def collect_examples(camb_dict):\n",
    "    sense_examples = []\n",
    "    phrase_examples = []\n",
    "    extra_examples = []\n",
    "    for vocab, pos_dict in camb_dict.items():\n",
    "        for pos_tag, pos_blocks in pos_dict.items():\n",
    "            for pos_block in pos_blocks:\n",
    "                for big_sense_block in pos_block['big_sense']:\n",
    "                    data = [vocab, pos_tag, pos_block['headword'],\n",
    "                            big_sense_block['guideword']]\n",
    "                    cur_sense_examples = collect_sense_examples(data, big_sense_block['sense'])\n",
    "                    sense_examples.extend(cur_sense_examples)\n",
    "                    cur_phrase_examples = collect_phrase_examples(data, big_sense_block['phrase'])\n",
    "                    phrase_examples.extend(cur_phrase_examples)\n",
    "                    cur_extra_examples = collect_extra_examples(data, big_sense_block['extra_sents'])\n",
    "                    extra_examples.extend(cur_extra_examples)\n",
    "    return (sense_examples, phrase_examples, extra_examples)\n",
    "\n",
    "def collect_sense_examples(big_sense_data, sense_blocks):\n",
    "    sense_examples = []\n",
    "    for sense_block in sense_blocks:\n",
    "        sense_data = big_sense_data + [sense_block['en_def'], sense_block['ch_def'],\n",
    "                                       sense_block['level'], sense_block['gcs']]\n",
    "        if not sense_block['examples']:\n",
    "            sense_examples.append(sense_data + ['', ''])\n",
    "        else:\n",
    "            for example in sense_block['examples']:\n",
    "                sense_examples.append(sense_data + [example['en'], example['ch']])\n",
    "    return sense_examples\n",
    "\n",
    "def collect_phrase_examples(big_sense_data, phrase_blocks):\n",
    "    phrase_examples = []\n",
    "    for phrase_block in phrase_blocks:\n",
    "        phrase_data = big_sense_data + [phrase_block['term'],\n",
    "                                        phrase_block['level']]\n",
    "        for sense_block in phrase_block['sense']:\n",
    "            sense_data = phrase_data + [sense_block['en_def'],\n",
    "                                        sense_block['ch_def']]\n",
    "            if not sense_block['examples']:\n",
    "                phrase_examples.append(sense_data + ['', ''])\n",
    "            else:\n",
    "                for example in sense_block['examples']:\n",
    "                    phrase_examples.append(sense_data + [example['en'],\n",
    "                                                         example['ch']])\n",
    "    return phrase_examples\n",
    "\n",
    "def collect_extra_examples(big_sense_data, extra_sents):\n",
    "    extra_examples = [big_sense_data + [sent] for sent in extra_sents]\n",
    "    return extra_examples"
   ]
  },
  {
   "cell_type": "code",
   "execution_count": 6,
   "metadata": {},
   "outputs": [],
   "source": [
    "sense_examples, phrase_examples, extra_examples = collect_examples(camb_dict)"
   ]
  },
  {
   "cell_type": "code",
   "execution_count": 42,
   "metadata": {},
   "outputs": [
    {
     "data": {
      "text/plain": [
       "['abandon',\n",
       " 'noun',\n",
       " 'abandon',\n",
       " '',\n",
       " 'with (gay/wild) abandon',\n",
       " '',\n",
       " 'in a completely uncontrolled way',\n",
       " '盡情；放縱',\n",
       " 'We danced with wild abandon.',\n",
       " '我們縱情舞蹈。']"
      ]
     },
     "execution_count": 42,
     "metadata": {},
     "output_type": "execute_result"
    }
   ],
   "source": [
    "phrase_examples[3000]"
   ]
  },
  {
   "cell_type": "code",
   "execution_count": 9,
   "metadata": {},
   "outputs": [
    {
     "data": {
      "text/plain": [
       "38820"
      ]
     },
     "execution_count": 9,
     "metadata": {},
     "output_type": "execute_result"
    }
   ],
   "source": [
    "len(extra_examples)"
   ]
  },
  {
   "cell_type": "code",
   "execution_count": 36,
   "metadata": {},
   "outputs": [
    {
     "data": {
      "text/plain": [
       "['squawk',\n",
       " 'verb',\n",
       " 'squawk',\n",
       " '',\n",
       " 'to complain about something noisily',\n",
       " '大聲抱怨；高聲訴苦',\n",
       " '',\n",
       " '',\n",
       " 'Environmental groups have been squawking about the decision to build the motorway through a forest.',\n",
       " '環保團體一直在大聲疾呼，反對興建穿越森林的高速公路的決定。']"
      ]
     },
     "execution_count": 36,
     "metadata": {},
     "output_type": "execute_result"
    }
   ],
   "source": [
    "sense_examples[10000]"
   ]
  }
 ],
 "metadata": {
  "kernelspec": {
   "display_name": "Python 3",
   "language": "python",
   "name": "python3"
  },
  "language_info": {
   "codemirror_mode": {
    "name": "ipython",
    "version": 3
   },
   "file_extension": ".py",
   "mimetype": "text/x-python",
   "name": "python",
   "nbconvert_exporter": "python",
   "pygments_lexer": "ipython3",
   "version": "3.6.10"
  }
 },
 "nbformat": 4,
 "nbformat_minor": 4
}
