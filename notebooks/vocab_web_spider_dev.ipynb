{
 "cells": [
  {
   "cell_type": "code",
   "execution_count": 1,
   "metadata": {},
   "outputs": [],
   "source": [
    "import os\n",
    "import requests\n",
    "from bs4 import BeautifulSoup\n",
    "import json"
   ]
  },
  {
   "cell_type": "code",
   "execution_count": 6,
   "metadata": {},
   "outputs": [
    {
     "ename": "FileNotFoundError",
     "evalue": "[Errno 2] No such file or directory: '../extendURLs.txt'",
     "output_type": "error",
     "traceback": [
      "\u001b[0;31m---------------------------------------\u001b[0m",
      "\u001b[0;31mFileNotFoundError\u001b[0mTraceback (most recent call last)",
      "\u001b[0;32m<ipython-input-6-369ee322ca23>\u001b[0m in \u001b[0;36m<module>\u001b[0;34m\u001b[0m\n\u001b[0;32m----> 1\u001b[0;31m \u001b[0;32mwith\u001b[0m \u001b[0mopen\u001b[0m\u001b[0;34m(\u001b[0m\u001b[0;34m'../extendURLs.txt'\u001b[0m\u001b[0;34m,\u001b[0m \u001b[0;34m'r'\u001b[0m\u001b[0;34m)\u001b[0m \u001b[0;32mas\u001b[0m \u001b[0mf\u001b[0m\u001b[0;34m:\u001b[0m\u001b[0;34m\u001b[0m\u001b[0;34m\u001b[0m\u001b[0m\n\u001b[0m\u001b[1;32m      2\u001b[0m     \u001b[0mextend_urls\u001b[0m \u001b[0;34m=\u001b[0m \u001b[0meval\u001b[0m\u001b[0;34m(\u001b[0m\u001b[0mf\u001b[0m\u001b[0;34m.\u001b[0m\u001b[0mread\u001b[0m\u001b[0;34m(\u001b[0m\u001b[0;34m)\u001b[0m\u001b[0;34m)\u001b[0m\u001b[0;34m\u001b[0m\u001b[0;34m\u001b[0m\u001b[0m\n",
      "\u001b[0;31mFileNotFoundError\u001b[0m: [Errno 2] No such file or directory: '../extendURLs.txt'"
     ]
    }
   ],
   "source": [
    "with open('../extendURLs.txt', 'r') as f:\n",
    "    extend_urls = eval(f.read())"
   ]
  },
  {
   "cell_type": "code",
   "execution_count": 2,
   "metadata": {},
   "outputs": [],
   "source": [
    "vocab = 'back'\n",
    "home_url = 'https://dictionary.cambridge.org/dictionary/english-chinese-traditional'\n",
    "res = requests.get(os.path.join(home_url, vocab))\n",
    "bs = BeautifulSoup(res.text, 'html.parser')"
   ]
  },
  {
   "cell_type": "code",
   "execution_count": 59,
   "metadata": {},
   "outputs": [],
   "source": [
    "def fetch_pos_blocks(soup):\n",
    "    pos_blocks = soup.select('div.entry-body__el')\n",
    "    return pos_blocks\n",
    "\n",
    "def fetch_pos_tag(pos_block):\n",
    "    header_block = find_all(pos_block, 'pos-header')[0]\n",
    "    pos_tag = header_block.select('.pos')[0].text\n",
    "    return pos_tag\n",
    "\n",
    "def fetch_big_sense_blocks(pos_block):\n",
    "    body_block = find_all(pos_block, 'pos-body')[0]\n",
    "    big_sense_blocks = find_all(body_block, 'dsense')\n",
    "    return big_sense_blocks\n",
    "\n",
    "def fetch_guide_word(big_sense_block):\n",
    "    if 'dsense-noh' in big_sense_block['class']:\n",
    "        return ''\n",
    "    header_block = find_all(big_sense_block, 'dsense_h')[0]\n",
    "    guide_word = find_all(header_block, 'dsense_gw')[0].text.strip()\n",
    "    return guide_word\n",
    "\n",
    "def fetch_sense_blocks(big_sense_block):\n",
    "    body_block = find_all(big_sense_block, 'dsense_b')[0]\n",
    "    sense_blocks = find_all(body_block, 'ddef_block')\n",
    "    return sense_blocks\n",
    "\n",
    "def fetch_extra_examples(big_sense_block):\n",
    "    extra_ex_block = find_all(big_sense_block, 'daccord')\n",
    "    if extra_ex_block:\n",
    "        extra_examples = [exp_block.text\n",
    "                          for exp_block in extra_ex_block[0].select('li.dexamp')]\n",
    "    else:\n",
    "        extra_examples = []\n",
    "    return extra_examples\n",
    "\n",
    "def fetch_phrase_blocks(big_sense_block):\n",
    "    body_block = find_all(big_sense_block, 'dsense_b')[0]\n",
    "    phrase_blocks = find_all(body_block, 'dphrase-block')\n",
    "    return phrase_blocks\n",
    "\n",
    "def fetch_phrase_data(phrase_block):\n",
    "    phrase_head_block = fetch_phrase_head_block(phrase_block)\n",
    "    phrase_head_data = fetch_phrase_head_data(phrase_head_block)\n",
    "    phrase_sense_blocks = fetch_phrase_sense_blocks(phrase_block)\n",
    "    phrase_sense_data_list = [fetch_sense_data(sense_block, is_phrase=True)\n",
    "                              for sense_block in phrase_sense_blocks]\n",
    "    sense_data = {'sense': phrase_sense_data_list}\n",
    "    phrase_data = {**phrase_head_data, **sense_data}\n",
    "    return phrase_data\n",
    "\n",
    "def fetch_phrase_head_block(phrase_block):\n",
    "    head_block = find_all(phrase_block, 'dphrase_h')[0]\n",
    "    return head_block\n",
    "\n",
    "def fetch_phrase_sense_blocks(phrase_block):\n",
    "    body_block = find_all(phrase_block, 'dphrase_b')[0]\n",
    "    phrase_sense_blocks = find_all(body_block, 'ddef_block')\n",
    "    return phrase_sense_blocks\n",
    "\n",
    "def fetch_phrase_head_data(phrase_head_block):\n",
    "    term = find_all(phrase_head_block, 'dphrase-title')[0].text\n",
    "    info_block = find_all(phrase_head_block, 'dphrase-info')\n",
    "    level = ''\n",
    "    if info_block:\n",
    "        level_block = find_all(info_block[0], 'dxref')\n",
    "        level = level_block[0].text if level_block else ''\n",
    "    head_data = {\n",
    "        'term': term,\n",
    "        'level': level,\n",
    "    }\n",
    "    return head_data\n",
    "\n",
    "def fetch_sense_data(sense_block, is_phrase=False):\n",
    "    sense_head_block = find_all(sense_block, 'ddef_h')[0]\n",
    "    en_def = find_all(sense_head_block, 'ddef_d')[0].text\n",
    "    sense_body_block = find_all(sense_block, 'ddef_b')[0]\n",
    "    ch_def = find_all(sense_body_block, 'dtrans')[0].text\n",
    "    example_blocks = find_all(sense_body_block, 'dexamp')\n",
    "    example_sents = fetch_example_sents(example_blocks)\n",
    "    sense_data = {\n",
    "        'en_def': en_def,\n",
    "        'ch_def': ch_def,\n",
    "        'example_sents': example_sents\n",
    "    }\n",
    "    if not is_phrase:\n",
    "        level_block = find_all(sense_head_block, 'ddef-info')\n",
    "        level = level_block[0].text.strip() if level_block else ''\n",
    "        sense_data['level'] = level\n",
    "    return sense_data\n",
    "\n",
    "def fetch_example_sents(example_blocks):\n",
    "    example_sents = []\n",
    "    for block in example_blocks:\n",
    "        en_sent = find_all(block, 'deg')[0].text\n",
    "        ch_sent = find_all(block, 'dtrans')[0].text\n",
    "        example_sents.extend([en_sent, ch_sent])\n",
    "    return example_sents\n",
    "\n",
    "# TODO: 研究如何從 sense block 中擷取 data"
   ]
  },
  {
   "cell_type": "code",
   "execution_count": 60,
   "metadata": {},
   "outputs": [],
   "source": [
    "pos_blocks = fetch_pos_blocks(bs)\n",
    "big_sense_blocks = fetch_big_sense_blocks(pos_blocks[1])\n",
    "phrase_blocks = fetch_phrase_blocks(big_sense_blocks[0])\n",
    "phrase_sense_blocks = fetch_phrase_sense_blocks(phrase_blocks[0])"
   ]
  },
  {
   "cell_type": "code",
   "execution_count": 82,
   "metadata": {},
   "outputs": [],
   "source": [
    "pos_blocks2 = fetch_pos_blocks(bs)\n",
    "big_sense_blocks2 = fetch_big_sense_blocks(pos_blocks[1])\n",
    "phrase_blocks2 = fetch_phrase_blocks(big_sense_blocks[0])\n",
    "phrase_sense_blocks2 = fetch_phrase_sense_blocks(phrase_blocks[0])"
   ]
  },
  {
   "cell_type": "code",
   "execution_count": 69,
   "metadata": {},
   "outputs": [
    {
     "data": {
      "text/plain": [
       "{'term': 'the back of your hand',\n",
       " 'level': '',\n",
       " 'sense': [{'en_def': 'the side of your hand that has hair growing on it',\n",
       "   'ch_def': '手背',\n",
       "   'example_sents': []}]}"
      ]
     },
     "execution_count": 69,
     "metadata": {},
     "output_type": "execute_result"
    }
   ],
   "source": [
    "fetch_phrase_data(phrase_blocks[2])"
   ]
  },
  {
   "cell_type": "code",
   "execution_count": 98,
   "metadata": {},
   "outputs": [],
   "source": [
    "def fetch_vocab_data(page_bs):\n",
    "    pos_blocks = fetch_pos_blocks(page_bs)\n",
    "    vocab_data = {}\n",
    "    for pos_block in pos_blocks:\n",
    "        pos_tag = fetch_pos_tag(pos_block)\n",
    "        big_sense_blocks = fetch_big_sense_blocks(pos_block)\n",
    "        big_sense_data_list = []\n",
    "        for big_sense_block in big_sense_blocks:\n",
    "            guide_word = fetch_guide_word(big_sense_block)\n",
    "            extra_sents = fetch_extra_examples(big_sense_block)\n",
    "            senses_data = [fetch_sense_data(sense_block)\n",
    "                           for sense_block in fetch_sense_blocks(big_sense_block)]\n",
    "            big_sense_data = {'sense': senses_data,\n",
    "                              'extra_sents': extra_sents,\n",
    "                              'guidword': guide_word}\n",
    "            big_sense_data_list.append(big_sense_data)\n",
    "        vocab_data[pos_tag] = big_sense_data_list\n",
    "    return vocab_data"
   ]
  },
  {
   "cell_type": "code",
   "execution_count": 99,
   "metadata": {},
   "outputs": [],
   "source": [
    "back_data = fetch_vocab_data(bs)"
   ]
  },
  {
   "cell_type": "code",
   "execution_count": 78,
   "metadata": {},
   "outputs": [],
   "source": [
    "sense_blocks = fetch_sense_blocks(big_sense_blocks[0])"
   ]
  },
  {
   "cell_type": "code",
   "execution_count": 59,
   "metadata": {},
   "outputs": [
    {
     "name": "stdout",
     "output_type": "stream",
     "text": [
      "noun\n"
     ]
    }
   ],
   "source": [
    "for pos_block in fetch_pos_blocks(bs):\n",
    "    print(fetch_pos_tag(pos_block))"
   ]
  },
  {
   "cell_type": "code",
   "execution_count": 90,
   "metadata": {},
   "outputs": [],
   "source": [
    "with open('/home/old/fun/crawling-cambridge-dictionary/cambridge.word.666.json', 'r') as f:\n",
    "    camb_dict = json.load(f)"
   ]
  },
  {
   "cell_type": "code",
   "execution_count": 97,
   "metadata": {},
   "outputs": [
    {
     "data": {
      "text/plain": [
       "dict_keys(['sense', 'extra_sents', 'guideword'])"
      ]
     },
     "execution_count": 97,
     "metadata": {},
     "output_type": "execute_result"
    }
   ],
   "source": [
    "camb_dict['back']['adverb'][0].keys()"
   ]
  }
 ],
 "metadata": {
  "kernelspec": {
   "display_name": "Python 3",
   "language": "python",
   "name": "python3"
  },
  "language_info": {
   "codemirror_mode": {
    "name": "ipython",
    "version": 3
   },
   "file_extension": ".py",
   "mimetype": "text/x-python",
   "name": "python",
   "nbconvert_exporter": "python",
   "pygments_lexer": "ipython3",
   "version": "3.6.10"
  }
 },
 "nbformat": 4,
 "nbformat_minor": 4
}
