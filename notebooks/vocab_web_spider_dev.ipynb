{
 "cells": [
  {
   "cell_type": "code",
   "execution_count": 2,
   "metadata": {},
   "outputs": [],
   "source": [
    "import os\n",
    "import requests\n",
    "from bs4 import BeautifulSoup\n",
    "import json\n",
    "import random\n",
    "import sys\n",
    "import tqdm\n",
    "sys.path.append('../')\n",
    "from ScrambleDict.ScrambleDict.page_parser.vocab_page import VocabPage"
   ]
  },
  {
   "cell_type": "code",
   "execution_count": 2,
   "metadata": {},
   "outputs": [],
   "source": [
    "def print_bar(symbol):\n",
    "    print('\\n' + symbol * 20 + '\\n')\n",
    "\n",
    "def print_vocab_page(vocab_page):\n",
    "    print(f'`{vocab_page.vocab}`')\n",
    "    for pos_block in vocab_page.pos_blocks:\n",
    "        print(pos_block.pos_tag)\n",
    "        for big_sense_block in pos_block.big_sense_blocks:\n",
    "            print(f'guide word: {big_sense_block.guideword}')\n",
    "            print_bar('-')\n",
    "            print('`sense blocks`')\n",
    "            for sense_block in big_sense_block.sense_blocks:\n",
    "                print(f'en def: {sense_block.en_def}')\n",
    "                print(f'ch def: {sense_block.ch_def}')\n",
    "                print(f'level: {sense_block.level}')\n",
    "                print('example sents:')\n",
    "                print(sense_block.examples)\n",
    "                print_bar('#')\n",
    "            print_bar('-')\n",
    "            print('`phrase_blocks`')\n",
    "            for phrase_block in big_sense_block.phrase_blocks:\n",
    "                print(f'term: {phrase_block.term}')\n",
    "                print(f'level: {phrase_block.level}')\n",
    "                print('sense list:')\n",
    "                print(phrase_block.sense_list)\n",
    "            print_bar('-')\n",
    "            print('`extra sents`')\n",
    "            print(big_sense_block.extra_sents)\n",
    "            print_bar('=')\n",
    "        print_bar('*')"
   ]
  },
  {
   "cell_type": "code",
   "execution_count": 19,
   "metadata": {},
   "outputs": [],
   "source": [
    "with open('../ScrambleDict/vocab_urls.csv', 'r') as f:\n",
    "    vocab_urls = f.read().split('\\n')[1:-1]"
   ]
  },
  {
   "cell_type": "code",
   "execution_count": 21,
   "metadata": {},
   "outputs": [],
   "source": [
    "from collections import Counter\n",
    "for url, count in Counter(vocab_urls).items():\n",
    "    if count > 1:\n",
    "        print(url)"
   ]
  },
  {
   "cell_type": "code",
   "execution_count": 4,
   "metadata": {},
   "outputs": [],
   "source": [
    "random.seed(104702016)\n",
    "sample_urls = random.choices(vocab_urls, k=2000)"
   ]
  },
  {
   "cell_type": "code",
   "execution_count": 5,
   "metadata": {},
   "outputs": [
    {
     "name": "stderr",
     "output_type": "stream",
     "text": [
      "/home/nlplab/simon/anaconda3/lib/python3.7/site-packages/ipykernel_launcher.py:3: TqdmDeprecationWarning: This function will be removed in tqdm==5.0.0\n",
      "Please use `tqdm.notebook.tqdm` instead of `tqdm.tqdm_notebook`\n",
      "  This is separate from the ipykernel package so we can avoid doing imports until\n"
     ]
    },
    {
     "data": {
      "application/vnd.jupyter.widget-view+json": {
       "model_id": "a2b75f63700440deb327b49534e93a02",
       "version_major": 2,
       "version_minor": 0
      },
      "text/plain": [
       "HBox(children=(FloatProgress(value=0.0, max=2000.0), HTML(value='')))"
      ]
     },
     "metadata": {},
     "output_type": "display_data"
    },
    {
     "name": "stdout",
     "output_type": "stream",
     "text": [
      "\n"
     ]
    }
   ],
   "source": [
    "vocab_page_list = []\n",
    "problematic_urls = []\n",
    "for url in tqdm.tqdm_notebook(sample_urls):\n",
    "    vocab = url.split('/')[-1]\n",
    "    res = requests.get(url)\n",
    "    bs = BeautifulSoup(res.text, 'html.parser')\n",
    "    try:\n",
    "        vocab_page_list.append(VocabPage(vocab, bs))\n",
    "    except IndexError:\n",
    "        problematic_urls.append(url)"
   ]
  },
  {
   "cell_type": "code",
   "execution_count": 35,
   "metadata": {},
   "outputs": [
    {
     "data": {
      "text/plain": [
       "'https://dictionary.cambridge.org/dictionary/english-chinese-traditional/back-down'"
      ]
     },
     "execution_count": 35,
     "metadata": {},
     "output_type": "execute_result"
    }
   ],
   "source": [
    "problematic_urls[18]"
   ]
  },
  {
   "cell_type": "code",
   "execution_count": 3,
   "metadata": {
    "collapsed": true,
    "jupyter": {
     "outputs_hidden": true
    }
   },
   "outputs": [
    {
     "name": "stdout",
     "output_type": "stream",
     "text": [
      "`kick-off`\n",
      "phrasal verb\n",
      "guide word: (START)\n",
      "\n",
      "--------------------\n",
      "\n",
      "`sense blocks`\n",
      "en def: If a game of football kicks off, it starts.\n",
      "ch def: （足球比賽）開球，開始\n",
      "level: C1\n",
      "example sents:\n",
      "[{'en': 'What time does the game kick off?', 'ch': '比賽甚麼時候開始？'}]\n",
      "\n",
      "####################\n",
      "\n",
      "\n",
      "--------------------\n",
      "\n",
      "`phrase_blocks`\n",
      "\n",
      "--------------------\n",
      "\n",
      "`extra sents`\n",
      "[]\n",
      "\n",
      "====================\n",
      "\n",
      "guide word: (TROUBLE OR EXCITEMENT)\n",
      "\n",
      "--------------------\n",
      "\n",
      "`sense blocks`\n",
      "en def: to start to get angry or complain in a noisy way\n",
      "ch def: 生氣；吵嚷地抱怨\n",
      "level: \n",
      "example sents:\n",
      "[{'en': \"The children started to kick off so I couldn't stay.\", 'ch': '孩子都開始吵嚷地抱怨了，因此我必須走了。'}]\n",
      "\n",
      "####################\n",
      "\n",
      "\n",
      "--------------------\n",
      "\n",
      "`phrase_blocks`\n",
      "\n",
      "--------------------\n",
      "\n",
      "`extra sents`\n",
      "[]\n",
      "\n",
      "====================\n",
      "\n",
      "guide word: (DIE)\n",
      "\n",
      "--------------------\n",
      "\n",
      "`sense blocks`\n",
      "en def: to die\n",
      "ch def: 死掉\n",
      "level: \n",
      "example sents:\n",
      "[]\n",
      "\n",
      "####################\n",
      "\n",
      "\n",
      "--------------------\n",
      "\n",
      "`phrase_blocks`\n",
      "\n",
      "--------------------\n",
      "\n",
      "`extra sents`\n",
      "[]\n",
      "\n",
      "====================\n",
      "\n",
      "\n",
      "********************\n",
      "\n",
      "noun\n",
      "guide word: \n",
      "\n",
      "--------------------\n",
      "\n",
      "`sense blocks`\n",
      "en def: the time when a game of football starts, or when it begins again after it has stopped because of a goal, etc.\n",
      "ch def: （足球比賽的）開球，開賽，中線開球\n",
      "level: \n",
      "example sents:\n",
      "[]\n",
      "\n",
      "####################\n",
      "\n",
      "en def: the time when an activity starts\n",
      "ch def: （活動的）開始\n",
      "level: \n",
      "example sents:\n",
      "[]\n",
      "\n",
      "####################\n",
      "\n",
      "\n",
      "--------------------\n",
      "\n",
      "`phrase_blocks`\n",
      "\n",
      "--------------------\n",
      "\n",
      "`extra sents`\n",
      "[]\n",
      "\n",
      "====================\n",
      "\n",
      "\n",
      "********************\n",
      "\n"
     ]
    }
   ],
   "source": [
    "res = requests.get('https://dictionary.cambridge.org/dictionary/english-chinese-traditional/kick-off')\n",
    "bs = BeautifulSoup(res.text, 'html.parser')\n",
    "vocab_page = VocabPage('kick-off', bs)\n",
    "print_vocab_page(vocab_page)"
   ]
  },
  {
   "cell_type": "code",
   "execution_count": 53,
   "metadata": {
    "collapsed": true,
    "jupyter": {
     "outputs_hidden": true
    }
   },
   "outputs": [
    {
     "name": "stdout",
     "output_type": "stream",
     "text": [
      "`kick-off`\n",
      "adverb\n",
      "guide word: (RETURN)\n",
      "\n",
      "--------------------\n",
      "\n",
      "`sense blocks`\n",
      "en def: in, into, or towards a previous place or condition, or an earlier time\n",
      "ch def: 在原處；回到原處；恢復原狀；返回；回到以前\n",
      "level: B2\n",
      "example sents:\n",
      "[{'en': 'When you take the scissors, remember to put them back.', 'ch': '用完剪刀後，記著要放回原處。'}, {'en': 'He left a note saying \"Gone out. Back soon.\"', 'ch': '他留了字條，上面寫著「出去一會兒，馬上回來」。'}, {'en': \"She went to Brazil for two years, but now she's back (= has returned).\", 'ch': '她在巴西住了兩年，現在回來了。'}, {'en': 'He looked back (= looked behind him) and saw they were following him.', 'ch': '他回頭看了看，發現他們正跟著他。'}, {'en': 'Looking at her old photographs brought back (= made her remember) a lot of memories.', 'ch': '她看著舊照片，想起了許多的往事。'}, {'en': \"I was woken by a thunderstorm, and I couldn't get back to sleep (= could not sleep again).\", 'ch': '我被雷雨弄醒後，再也無法入睡。'}, {'en': 'The last time we saw Lowell was back (= at an earlier time) in January.', 'ch': '我們最後一次見到羅威爾是在早一月的時候。'}, {'en': 'This tradition dates back to (= to the earlier time of) the 16th century.', 'ch': '這個傳統可以追溯到16世紀。'}]\n",
      "\n",
      "####################\n",
      "\n",
      "en def: in return\n",
      "ch def: 作為回報\n",
      "level: A2\n",
      "example sents:\n",
      "[{'en': \"If he hits me, I'll hit him back.\", 'ch': '如果他打我，我會還手。'}, {'en': \"You're not just going to let her say those things about you without fighting back, are you?\", 'ch': '她那樣說你，你不會就此算了吧？'}]\n",
      "\n",
      "####################\n",
      "\n",
      "en def: in reply\n",
      "ch def: 作為答覆\n",
      "level: A2\n",
      "example sents:\n",
      "[{'en': \"I'm busy at the moment - can I call you back?\", 'ch': '我現在很忙——再回電話給你好嗎？'}, {'en': \"I wrote to Donna several months ago, but she hasn't written back yet.\", 'ch': '我幾個月前寫過信給唐娜，但她還未回覆。'}]\n",
      "\n",
      "####################\n",
      "\n",
      "\n",
      "--------------------\n",
      "\n",
      "`phrase_blocks`\n",
      "\n",
      "--------------------\n",
      "\n",
      "`extra sents`\n",
      "['After the trip, it was nice getting back to a few home comforts.', \"She thinks he'll come back, but she's deceiving herself.\", \"That's enough, Peter. Give those toys back, please.\", \"I think I locked the door but I'll go back and check just to make sure.\", 'When I look back I can see where we went wrong.', \"Will you put the books back when you've finished with them?\"]\n",
      "\n",
      "====================\n",
      "\n",
      "guide word: (FURTHER AWAY)\n",
      "\n",
      "--------------------\n",
      "\n",
      "`sense blocks`\n",
      "en def: further away in distance\n",
      "ch def: 向後；遠離\n",
      "level: B2\n",
      "example sents:\n",
      "[{'en': \"If we push the table back against the wall, we'll have more room.\", 'ch': '如果把桌子往後推至牆邊，就可騰出更多空間。'}, {'en': '\"Keep back!\" he shouted, \"Don\\'t come any closer!\"', 'ch': '「退後！」他大叫著，「不要再走近我！」'}, {'en': 'He sat back on the sofa.', 'ch': '他向後靠坐在沙發上。'}, {'en': 'She threw back her head and laughed uproariously.', 'ch': '她仰起頭，笑個不停。'}, {'en': 'The house is set back from the street.', 'ch': '那座房子離公路很遠。'}]\n",
      "\n",
      "####################\n",
      "\n",
      "\n",
      "--------------------\n",
      "\n",
      "`phrase_blocks`\n",
      "\n",
      "--------------------\n",
      "\n",
      "`extra sents`\n",
      "[\"Please stand back - then all of you will be able to see what I'm doing.\", 'The line of traffic stretched back several miles.', \"Could you stand back from these shelves and tell me if they're level?\", 'Our house is set back from the road.', 'As the body was carried through the crowd, people drew back respectfully .']\n",
      "\n",
      "====================\n",
      "\n",
      "\n",
      "********************\n",
      "\n",
      "noun\n",
      "guide word: (FURTHEST PART)\n",
      "\n",
      "--------------------\n",
      "\n",
      "`sense blocks`\n",
      "en def: the inside or outside part of an object, vehicle, building, etc. that is furthest from the front\n",
      "ch def: 後面；後部；背面\n",
      "level: A2\n",
      "example sents:\n",
      "[{'en': 'He jotted her name down on the back of an envelope.', 'ch': '他在信封背面匆匆記下了她的名字。'}, {'en': 'I found my tennis racket at the back of the cupboard.', 'ch': '我在衣櫃的最裡面找到了我的網球拍。'}, {'en': 'We sat at the back of the bus.', 'ch': '我們坐在公車後排的位子。'}, {'en': 'Our seats were right at the back of the auditorium.', 'ch': '我們的座位正好就在劇院的後排位置。'}, {'en': 'Ted was out/round the back (= in the area behind the house).\"', 'ch': '泰德在屋子後面。'}, {'en': 'There is a beautiful garden at the back of (= behind) the house.', 'ch': '房子後面有個漂亮的花園。'}, {'en': \"If there's no reply at the front door, come round the back.\", 'ch': '如果前門沒人應答，就去後門。'}, {'en': 'He put his jacket on the back of his chair (= the part of the chair that you put your back against when you sit on it).', 'ch': '他把夾克搭在椅背上。'}]\n",
      "\n",
      "####################\n",
      "\n",
      "\n",
      "--------------------\n",
      "\n",
      "`phrase_blocks`\n",
      "term: back to back\n",
      "level: \n",
      "sense list:\n",
      "[{'en_def': 'close together and facing in opposite directions', 'ch_def': '背靠背', 'examples': [{'en': 'The office was full of computers, and we had to sit back to back in long rows.', 'ch': '辦公室裡擺滿了電腦，我們只好背靠背坐著，排成長排。'}]}, {'en_def': 'happening one after another, without interruption', 'ch_def': '一個接一個', 'examples': [{'en': 'Coming up after the break, three Rolling Stones classics back to back.', 'ch': '休息片刻後，接下來要連續播放三首滾石樂隊的經典歌曲。'}]}]\n",
      "term: back to front\n",
      "level: C2\n",
      "sense list:\n",
      "[{'en_def': 'with the back part of something where the front should be', 'ch_def': '前後倒置', 'examples': [{'en': \"You've put your jumper on back to front.\", 'ch': '你的套頭衫前後穿反了。'}]}]\n",
      "term: the back of your hand\n",
      "level: \n",
      "sense list:\n",
      "[{'en_def': 'the side of your hand that has hair growing on it', 'ch_def': '手背', 'examples': []}]\n",
      "\n",
      "--------------------\n",
      "\n",
      "`extra sents`\n",
      "['I always keep a tool set in the back of my car.', 'She lay on the grass and the stiff dry grass prickled the back of her legs.', 'The previous owner of the house had built an extension on the back.', 'I found her kneeling in prayer at the back of the church.', 'The keyboard plugs in at the back of the computer.']\n",
      "\n",
      "====================\n",
      "\n",
      "guide word: (BODY PART)\n",
      "\n",
      "--------------------\n",
      "\n",
      "`sense blocks`\n",
      "en def: the part of your body that is opposite to the front, from your shoulders to your bottom\n",
      "ch def: 背部，背後\n",
      "level: A2\n",
      "example sents:\n",
      "[{'en': 'I have a bad back.', 'ch': '我背痛。'}, {'en': 'Sleeping on a bed that is too soft can be bad for your back.', 'ch': '睡在太軟的床會對背部有害。'}, {'en': 'He lay on his back, staring at the ceiling.', 'ch': '他仰躺著，眼睛盯著天花板。'}, {'en': 'I turned my back (= turned around so that I could not see) while she dressed.', 'ch': '她穿衣服時，我轉過身去。'}, {'en': 'She put her back out (= caused a serious injury to her back) lifting a box.', 'ch': '她搬箱子時嚴重扭傷背部。'}]\n",
      "\n",
      "####################\n",
      "\n",
      "\n",
      "--------------------\n",
      "\n",
      "`phrase_blocks`\n",
      "\n",
      "--------------------\n",
      "\n",
      "`extra sents`\n",
      "['The dog rolled over onto its back.', 'I pulled a muscle in my back lifting some drawers.', 'I go to sleep on my back but I always wake up in a different position.', 'Our dog has a black patch on his back.', \"I've got a pain in my lower back.\"]\n",
      "\n",
      "====================\n",
      "\n",
      "guide word: (SPORT)\n",
      "\n",
      "--------------------\n",
      "\n",
      "`sense blocks`\n",
      "en def: (in some sports, such as football) one of the players in a team who try to stop players from the other team from scoring goals, rather than trying to score goals himself or herself\n",
      "ch def: （足球等運動的）後衛球員\n",
      "level: \n",
      "example sents:\n",
      "[]\n",
      "\n",
      "####################\n",
      "\n",
      "\n",
      "--------------------\n",
      "\n",
      "`phrase_blocks`\n",
      "\n",
      "--------------------\n",
      "\n",
      "`extra sents`\n",
      "[]\n",
      "\n",
      "====================\n",
      "\n",
      "\n",
      "********************\n",
      "\n",
      "verb\n",
      "guide word: (SUPPORT)\n",
      "\n",
      "--------------------\n",
      "\n",
      "`sense blocks`\n",
      "en def: to give support to someone or something with money or words\n",
      "ch def: 支持；資助，援助\n",
      "level: C2\n",
      "example sents:\n",
      "[{'en': 'The management has refused to back our proposals.', 'ch': '管理層拒不支持我們的提議。'}]\n",
      "\n",
      "####################\n",
      "\n",
      "\n",
      "--------------------\n",
      "\n",
      "`phrase_blocks`\n",
      "\n",
      "--------------------\n",
      "\n",
      "`extra sents`\n",
      "['This theory needs to be backed up with solid empirical evidence.', 'The troops were backed by tanks, artillery, and other heavy armour.', 'It is hoped that all sides will back the peace plan.', \"A poll indicated that 77 percent of Americans backed the president's plan, with only 6 percent in opposition.\", 'Although Paris backs the U.N. demands, it has made it clear it will not take part in any new military action.']\n",
      "\n",
      "====================\n",
      "\n",
      "guide word: (RISK MONEY)\n",
      "\n",
      "--------------------\n",
      "\n",
      "`sense blocks`\n",
      "en def: to risk money by saying that you think a horse, team, etc. will win a race, game, or competition in order to win more money if they do\n",
      "ch def: 下賭注於\n",
      "level: \n",
      "example sents:\n",
      "[{'en': 'The horse I backed came in last.', 'ch': '我投注的那匹馬得了最後一名。'}]\n",
      "\n",
      "####################\n",
      "\n",
      "\n",
      "--------------------\n",
      "\n",
      "`phrase_blocks`\n",
      "\n",
      "--------------------\n",
      "\n",
      "`extra sents`\n",
      "[]\n",
      "\n",
      "====================\n",
      "\n",
      "guide word: (MOVE AWAY)\n",
      "\n",
      "--------------------\n",
      "\n",
      "`sense blocks`\n",
      "en def: to (cause to) move backwards\n",
      "ch def: （使）退後；使倒退\n",
      "level: C2\n",
      "example sents:\n",
      "[{'en': 'Ann gave up driving when she backed the car into the garage door.', 'ch': '安倒車時撞上了車庫大門，於是她從此再也不駕車了。'}, {'en': 'Please could you back your car up a few feet so that I can get mine out of the driveway?', 'ch': '請你把車往後倒幾英尺，讓我把車開出車道，好嗎？'}]\n",
      "\n",
      "####################\n",
      "\n",
      "\n",
      "--------------------\n",
      "\n",
      "`phrase_blocks`\n",
      "\n",
      "--------------------\n",
      "\n",
      "`extra sents`\n",
      "[]\n",
      "\n",
      "====================\n",
      "\n",
      "guide word: (COVER)\n",
      "\n",
      "--------------------\n",
      "\n",
      "`sense blocks`\n",
      "en def: to cover the back of something with a material, often to make it stronger or thicker\n",
      "ch def: 為某物加背襯使其更加堅固或厚實\n",
      "level: \n",
      "example sents:\n",
      "[{'en': 'The material is backed with a heavy lining.', 'ch': '這種衣料的裡補很厚實。'}]\n",
      "\n",
      "####################\n",
      "\n",
      "\n",
      "--------------------\n",
      "\n",
      "`phrase_blocks`\n",
      "\n",
      "--------------------\n",
      "\n",
      "`extra sents`\n",
      "[]\n",
      "\n",
      "====================\n",
      "\n",
      "\n",
      "********************\n",
      "\n",
      "adjective\n",
      "guide word: (POSITION)\n",
      "\n",
      "--------------------\n",
      "\n",
      "`sense blocks`\n",
      "en def: at or near the back of something\n",
      "ch def: 後面的，後部的，背部的\n",
      "level: \n",
      "example sents:\n",
      "[{'en': 'She left the house by the back door.', 'ch': '她從後門離開了那座房子。'}, {'en': 'The back seat of the car folds down.', 'ch': '車子的後座可以摺起來。'}]\n",
      "\n",
      "####################\n",
      "\n",
      "\n",
      "--------------------\n",
      "\n",
      "`phrase_blocks`\n",
      "\n",
      "--------------------\n",
      "\n",
      "`extra sents`\n",
      "[\"It says on the back cover of the book 'highly commended'.\", 'She skidded off the road when her back wheels hit an icy patch.', 'They sat in the back row of the cinema kissing and cuddling.', \"Let's take our drinks out into the back garden.\", 'Apparently one of her back teeth is very sore.']\n",
      "\n",
      "====================\n",
      "\n",
      "guide word: (PAID LATER)\n",
      "\n",
      "--------------------\n",
      "\n",
      "`sense blocks`\n",
      "en def: paid after the end of a period of time when it should have been paid\n",
      "ch def: 延遲的，拖欠的\n",
      "level: \n",
      "example sents:\n",
      "[{'en': 'They owe the staff several thousand in back pay.', 'ch': '他們拖欠了員工幾千鎊薪水。'}, {'en': 'back rent/taxes', 'ch': '預期未交的房租/稅款'}]\n",
      "\n",
      "####################\n",
      "\n",
      "\n",
      "--------------------\n",
      "\n",
      "`phrase_blocks`\n",
      "\n",
      "--------------------\n",
      "\n",
      "`extra sents`\n",
      "[]\n",
      "\n",
      "====================\n",
      "\n",
      "\n",
      "********************\n",
      "\n"
     ]
    }
   ],
   "source": [
    "res = requests.get('https://dictionary.cambridge.org/dictionary/english-chinese-traditional/back')\n",
    "bs = BeautifulSoup(res.text, 'html.parser')\n",
    "vocab_page = VocabPage('kick-off', bs)\n",
    "print_vocab_page(vocab_page)"
   ]
  },
  {
   "cell_type": "code",
   "execution_count": 3,
   "metadata": {},
   "outputs": [],
   "source": [
    "def fetch_vocab_data(vocab_page):\n",
    "    vocab_data = {}\n",
    "    for pos_block in vocab_page.pos_blocks:\n",
    "        big_sense_data_list = [fetch_big_sense_data(big_sense_block)\n",
    "                               for big_sense_block in pos_block.big_sense_blocks]\n",
    "        vocab_data[pos_block.pos_tag] = big_sense_data_list\n",
    "    return vocab_data\n",
    "\n",
    "def fetch_big_sense_data(big_sense_block):\n",
    "    big_sense_data = {\n",
    "        'guideword': big_sense_block.guideword,\n",
    "        'sense': [fetch_sense_data(sense_block)\n",
    "                  for sense_block in big_sense_block.sense_blocks],\n",
    "        'phrase': [fetch_phrase_data(phrase_block)\n",
    "                   for phrase_block in big_sense_block.phrase_blocks],\n",
    "        'extra_sents': big_sense_block.extra_sents\n",
    "    }\n",
    "    return big_sense_data\n",
    "\n",
    "def fetch_sense_data(sense_block):\n",
    "    sense_data = {\n",
    "        'en_def': sense_block.en_def,\n",
    "        'ch_def': sense_block.ch_def,\n",
    "        'level': sense_block.level,\n",
    "        'examples': sense_block.examples\n",
    "    }\n",
    "    return sense_data\n",
    "\n",
    "def fetch_phrase_data(phrase_block):\n",
    "    phrase_data = {\n",
    "        'term': phrase_block.term,\n",
    "        'level': phrase_block.level,\n",
    "        'sense': phrase_block.sense_list\n",
    "    }\n",
    "    return phrase_data"
   ]
  },
  {
   "cell_type": "code",
   "execution_count": 8,
   "metadata": {},
   "outputs": [],
   "source": [
    "tmp = list(filter(lambda x: int(len(x.pos_blocks) == 0), vocab_page_list))"
   ]
  },
  {
   "cell_type": "code",
   "execution_count": 41,
   "metadata": {},
   "outputs": [],
   "source": [
    "vocab = 'caddie'\n",
    "home_url = 'https://dictionary.cambridge.org/dictionary/english-chinese-traditional'\n",
    "res = requests.get(os.path.join(home_url, vocab))\n",
    "bs = BeautifulSoup(res.text, 'html.parser')\n",
    "vocab_page = VocabPage(vocab, bs)\n",
    "vocab_data = fetch_vocab_data(vocab_page)"
   ]
  },
  {
   "cell_type": "code",
   "execution_count": 80,
   "metadata": {},
   "outputs": [],
   "source": [
    "p = []\n",
    "for vocab, data in tmp_data.items():\n",
    "    if data and '' in data.keys():\n",
    "        p.append({vocab: data})"
   ]
  },
  {
   "cell_type": "code",
   "execution_count": 29,
   "metadata": {},
   "outputs": [],
   "source": [
    "res = requests.get(os.path.join(home_url, 'back'))\n",
    "bank_bs = BeautifulSoup(res.text, 'html.parser')\n",
    "bank_data = fetch_vocab_data(bank_bs)"
   ]
  },
  {
   "cell_type": "code",
   "execution_count": 38,
   "metadata": {},
   "outputs": [],
   "source": [
    "with open('/home/old/fun/crawling-cambridge-dictionary/cambridge.word.666.json', 'r') as f:\n",
    "    camb_dict = json.load(f)"
   ]
  },
  {
   "cell_type": "code",
   "execution_count": 52,
   "metadata": {},
   "outputs": [
    {
     "data": {
      "text/plain": [
       "'He jotted her name down on the back of an envelope.'"
      ]
     },
     "execution_count": 52,
     "metadata": {},
     "output_type": "execute_result"
    }
   ],
   "source": [
    "camb_dict['back']['noun'][0]['sense'][0]['examples'][0]"
   ]
  },
  {
   "cell_type": "code",
   "execution_count": 3,
   "metadata": {},
   "outputs": [],
   "source": [
    "with open('../ScrambleDict/vocab_data.json', 'r') as f:\n",
    "    tmp_data = json.load(f)"
   ]
  },
  {
   "cell_type": "code",
   "execution_count": 6,
   "metadata": {},
   "outputs": [
    {
     "ename": "ValueError",
     "evalue": "not enough values to unpack (expected 2, got 1)",
     "output_type": "error",
     "traceback": [
      "\u001b[0;31m---------------------------------------------------------------------------\u001b[0m",
      "\u001b[0;31mValueError\u001b[0m                                Traceback (most recent call last)",
      "\u001b[0;32m<ipython-input-6-1b6d4bc2cfa8>\u001b[0m in \u001b[0;36m<module>\u001b[0;34m\u001b[0m\n\u001b[1;32m      1\u001b[0m \u001b[0;32mfor\u001b[0m \u001b[0mvd\u001b[0m \u001b[0;32min\u001b[0m \u001b[0mtmp_data\u001b[0m\u001b[0;34m[\u001b[0m\u001b[0;34m:\u001b[0m\u001b[0;36m5\u001b[0m\u001b[0;34m]\u001b[0m\u001b[0;34m:\u001b[0m\u001b[0;34m\u001b[0m\u001b[0;34m\u001b[0m\u001b[0m\n\u001b[0;32m----> 2\u001b[0;31m     \u001b[0mvocab\u001b[0m\u001b[0;34m,\u001b[0m \u001b[0mdata\u001b[0m \u001b[0;34m=\u001b[0m \u001b[0mvd\u001b[0m\u001b[0;34m.\u001b[0m\u001b[0mitems\u001b[0m\u001b[0;34m(\u001b[0m\u001b[0;34m)\u001b[0m\u001b[0;34m\u001b[0m\u001b[0;34m\u001b[0m\u001b[0m\n\u001b[0m",
      "\u001b[0;31mValueError\u001b[0m: not enough values to unpack (expected 2, got 1)"
     ]
    }
   ],
   "source": [
    "for vd in tmp_data[:5]:\n",
    "    vocab, data = vd.items()"
   ]
  },
  {
   "cell_type": "code",
   "execution_count": 10,
   "metadata": {},
   "outputs": [
    {
     "data": {
      "text/plain": [
       "dict_items([('b', {'': [{'guideword': '', 'sense': [{'en_def': 'written abbreviation for\\nborn verb ', 'ch_def': '出生（born的縮寫）', 'level': '', 'examples': [{'en': 'John Winston Lennon (b. 9 October 1940, Liverpool, d. 8 December 1980, New York).', 'ch': '約翰‧溫斯頓‧連儂（1940年10月9日生於利物浦，1980年12月8日卒於紐約）'}]}], 'phrase': [], 'extra_sents': []}]})])"
      ]
     },
     "execution_count": 10,
     "metadata": {},
     "output_type": "execute_result"
    }
   ],
   "source": [
    "vd.items()"
   ]
  },
  {
   "cell_type": "code",
   "execution_count": 62,
   "metadata": {},
   "outputs": [
    {
     "data": {
      "text/plain": [
       "'b'"
      ]
     },
     "execution_count": 62,
     "metadata": {},
     "output_type": "execute_result"
    }
   ],
   "source": [
    "list(tmp_data[0].keys())[0]"
   ]
  },
  {
   "cell_type": "code",
   "execution_count": 68,
   "metadata": {},
   "outputs": [],
   "source": [
    "tmp_data = {list(x.keys())[0]: list(x.values())[0]\n",
    "            for x in tmp_data}"
   ]
  },
  {
   "cell_type": "code",
   "execution_count": 74,
   "metadata": {},
   "outputs": [],
   "source": [
    "p = []\n",
    "for x in tmp_data:\n",
    "    if not tmp_data[x]:\n",
    "        p.append(x)"
   ]
  },
  {
   "cell_type": "code",
   "execution_count": 77,
   "metadata": {},
   "outputs": [
    {
     "data": {
      "text/plain": [
       "5927"
      ]
     },
     "execution_count": 77,
     "metadata": {},
     "output_type": "execute_result"
    }
   ],
   "source": [
    "len(p)"
   ]
  },
  {
   "cell_type": "code",
   "execution_count": 15,
   "metadata": {},
   "outputs": [
    {
     "data": {
      "text/plain": [
       "'[\\n{\"b\": {\"\": [{\"guideword\": \"\", \"sense\": [{\"en_def\": \"written abbreviation for\\\\nborn verb \", \"ch_def\": \"\\\\u51fa\\\\u751f\\\\uff08born\\\\u7684\\\\u7e2e\\\\u5beb\\\\uff09\", \"level\": \"\", \"examples\": [{\"en\": \"John Winston Lennon (b. 9 October 1940, Liverpool, d. 8 December 1980, New York).\", \"ch\": \"\\\\u7d04\\\\u7ff0\\\\u2027\\\\u6eab\\\\u65af\\\\u9813\\\\u2027\\\\u9023\\\\u5102\\\\uff081940\\\\u5e7410\\\\u67089\\\\u65e5\\\\u751f\\\\u65bc\\\\u5229\\\\u7269\\\\u6d66\\\\uff0c1980\\\\u5e7412\\\\u67088\\\\u65e5\\\\u5352\\\\u65bc\\\\u7d10\\\\u7d04\\\\uff09\"}]}], \"phrase\": [], \"extra_sents\": []}]}},\\n{\"durian\": {\"noun\": [{\"guideword\": \"\", \"sense\": [{\"en_def\": \"a large, oval, tropical fruit with a hard'"
      ]
     },
     "execution_count": 15,
     "metadata": {},
     "output_type": "execute_result"
    }
   ],
   "source": [
    "tmp_data[:600]"
   ]
  },
  {
   "cell_type": "code",
   "execution_count": 78,
   "metadata": {},
   "outputs": [],
   "source": [
    "with open('../ScrambleDict/logs/20200530081948_info.log') as f:\n",
    "    logs = f.read().split('\\n')[:-1]"
   ]
  },
  {
   "cell_type": "code",
   "execution_count": 79,
   "metadata": {},
   "outputs": [
    {
     "data": {
      "text/plain": [
       "'2020-05-30 08:19:49,420 - VOCAB_PAGES_SPIDER - INFO - trying to parse https://dictionary.cambridge.org/dictionary/english-chinese-traditional/d-ya'"
      ]
     },
     "execution_count": 79,
     "metadata": {},
     "output_type": "execute_result"
    }
   ],
   "source": [
    "logs[0]"
   ]
  },
  {
   "cell_type": "code",
   "execution_count": 46,
   "metadata": {},
   "outputs": [],
   "source": [
    "c = Counter(list(map(lambda x: x.split(' ')[-1], logs)))"
   ]
  },
  {
   "cell_type": "code",
   "execution_count": 47,
   "metadata": {},
   "outputs": [],
   "source": [
    "for url, count in c.items():\n",
    "    if count > 1:\n",
    "        print(url)"
   ]
  },
  {
   "cell_type": "code",
   "execution_count": 49,
   "metadata": {},
   "outputs": [
    {
     "data": {
      "text/plain": [
       "50441"
      ]
     },
     "execution_count": 49,
     "metadata": {},
     "output_type": "execute_result"
    }
   ],
   "source": [
    "len(logs)"
   ]
  },
  {
   "cell_type": "code",
   "execution_count": 140,
   "metadata": {},
   "outputs": [
    {
     "data": {
      "text/plain": [
       "Counter({'INFO': 50441})"
      ]
     },
     "execution_count": 140,
     "metadata": {},
     "output_type": "execute_result"
    }
   ],
   "source": [
    "from collections import Counter\n",
    "Counter(list(map(lambda x: x.split(' ')[5], logs)))"
   ]
  }
 ],
 "metadata": {
  "kernelspec": {
   "display_name": "Python 3",
   "language": "python",
   "name": "python3"
  },
  "language_info": {
   "codemirror_mode": {
    "name": "ipython",
    "version": 3
   },
   "file_extension": ".py",
   "mimetype": "text/x-python",
   "name": "python",
   "nbconvert_exporter": "python",
   "pygments_lexer": "ipython3",
   "version": "3.6.10"
  }
 },
 "nbformat": 4,
 "nbformat_minor": 4
}
