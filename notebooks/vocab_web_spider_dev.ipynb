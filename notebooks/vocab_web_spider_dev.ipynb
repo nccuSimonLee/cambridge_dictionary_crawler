{
 "cells": [
  {
   "cell_type": "code",
   "execution_count": 1,
   "metadata": {},
   "outputs": [],
   "source": [
    "import os\n",
    "import requests\n",
    "from bs4 import BeautifulSoup\n",
    "import json\n",
    "import random\n",
    "import sys\n",
    "import tqdm\n",
    "sys.path.append('../')\n",
    "from ScrambleDict.ScrambleDict.vocab_page import VocabPage"
   ]
  },
  {
   "cell_type": "code",
   "execution_count": 2,
   "metadata": {},
   "outputs": [],
   "source": [
    "def print_bar(symbol):\n",
    "    print('\\n' + symbol * 20 + '\\n')\n",
    "\n",
    "def print_vocab_page(vocab_page):\n",
    "    print(f'`{vocab_page.vocab}`')\n",
    "    for pos_block in vocab_page.pos_blocks:\n",
    "        print(pos_block.pos_tag)\n",
    "        for big_sense_block in pos_block.big_sense_blocks:\n",
    "            print(f'guide word: {big_sense_block.guideword}')\n",
    "            print_bar('-')\n",
    "            print('`sense blocks`')\n",
    "            for sense_block in big_sense_block.sense_blocks:\n",
    "                print(f'en def: {sense_block.en_def}')\n",
    "                print(f'ch def: {sense_block.ch_def}')\n",
    "                print(f'level: {sense_block.level}')\n",
    "                print('example sents:')\n",
    "                print(sense_block.examples)\n",
    "                print_bar('#')\n",
    "            print_bar('-')\n",
    "            print('`phrase_blocks`')\n",
    "            for phrase_block in big_sense_block.phrase_blocks:\n",
    "                print(f'term: {phrase_block.term}')\n",
    "                print(f'level: {phrase_block.level}')\n",
    "                print('sense list:')\n",
    "                print(phrase_block.sense_list)\n",
    "            print_bar('-')\n",
    "            print('`extra sents`')\n",
    "            print(big_sense_block.extra_sents)\n",
    "            print_bar('=')\n",
    "        print_bar('*')"
   ]
  },
  {
   "cell_type": "code",
   "execution_count": 3,
   "metadata": {},
   "outputs": [],
   "source": [
    "with open('../ScrambleDict/vocab_urls.csv', 'r') as f:\n",
    "    vocab_urls = f.read().split('\\n')[1:-1]"
   ]
  },
  {
   "cell_type": "code",
   "execution_count": 4,
   "metadata": {},
   "outputs": [],
   "source": [
    "random.seed(104702016)\n",
    "sample_urls = random.choices(vocab_urls, k=2000)"
   ]
  },
  {
   "cell_type": "code",
   "execution_count": 5,
   "metadata": {},
   "outputs": [
    {
     "name": "stderr",
     "output_type": "stream",
     "text": [
      "/home/nlplab/simon/anaconda3/lib/python3.7/site-packages/ipykernel_launcher.py:3: TqdmDeprecationWarning: This function will be removed in tqdm==5.0.0\n",
      "Please use `tqdm.notebook.tqdm` instead of `tqdm.tqdm_notebook`\n",
      "  This is separate from the ipykernel package so we can avoid doing imports until\n"
     ]
    },
    {
     "data": {
      "application/vnd.jupyter.widget-view+json": {
       "model_id": "a2b75f63700440deb327b49534e93a02",
       "version_major": 2,
       "version_minor": 0
      },
      "text/plain": [
       "HBox(children=(FloatProgress(value=0.0, max=2000.0), HTML(value='')))"
      ]
     },
     "metadata": {},
     "output_type": "display_data"
    },
    {
     "name": "stdout",
     "output_type": "stream",
     "text": [
      "\n"
     ]
    }
   ],
   "source": [
    "vocab_page_list = []\n",
    "problematic_urls = []\n",
    "for url in tqdm.tqdm_notebook(sample_urls):\n",
    "    vocab = url.split('/')[-1]\n",
    "    res = requests.get(url)\n",
    "    bs = BeautifulSoup(res.text, 'html.parser')\n",
    "    try:\n",
    "        vocab_page_list.append(VocabPage(vocab, bs))\n",
    "    except IndexError:\n",
    "        problematic_urls.append(url)"
   ]
  },
  {
   "cell_type": "code",
   "execution_count": 20,
   "metadata": {},
   "outputs": [
    {
     "data": {
      "text/plain": [
       "[]"
      ]
     },
     "execution_count": 20,
     "metadata": {},
     "output_type": "execute_result"
    }
   ],
   "source": [
    "vocab_page_list[0].vocab_page_bs.select('.pv-block')"
   ]
  },
  {
   "cell_type": "code",
   "execution_count": 35,
   "metadata": {},
   "outputs": [
    {
     "data": {
      "text/plain": [
       "'https://dictionary.cambridge.org/dictionary/english-chinese-traditional/back-down'"
      ]
     },
     "execution_count": 35,
     "metadata": {},
     "output_type": "execute_result"
    }
   ],
   "source": [
    "problematic_urls[18]"
   ]
  },
  {
   "cell_type": "code",
   "execution_count": 21,
   "metadata": {},
   "outputs": [],
   "source": [
    "res = requests.get('https://dictionary.cambridge.org/dictionary/english-chinese-traditional/kick-off')\n",
    "bs = BeautifulSoup(res.text, 'html.parser')"
   ]
  },
  {
   "cell_type": "code",
   "execution_count": 27,
   "metadata": {},
   "outputs": [
    {
     "data": {
      "text/plain": [
       "<div class=\"pv-block\"><div class=\"di-title\"><h2 class=\"headword tw-bw dhw dpos-h_hw\"><b>kick off</b></h2></div> <span class=\"di-info\"><div class=\"pos-header dpos-h\"><span class=\"anc-info-head danc-info-head\">— <span class=\"pos dpos\" title=\"Verb with an adverb or preposition, with meaning different from meaning of its parts.\">phrasal verb</span> with <span class=\"hw dhw\">kick</span> </span><span class=\"pos dpos\" title=\"A word that describes an action, condition or experience.\">verb</span> <div></div><span class=\"uk dpron-i\"><span class=\"region dreg\">uk</span><span class=\"daud\">\n",
       "<amp-audio controlslist=\"nodownload\" id=\"ampaudio1\" layout=\"nodisplay\" preload=\"none\">\n",
       "<div class=\"hdib\" fallback=\"\">\n",
       "<p>Your browser doesn't support HTML5 audio</p>\n",
       "</div>\n",
       "<source src=\"/media/english-chinese-traditional/uk_pron/u/ukk/ukker/ukkero_028.mp3\" type=\"audio/mpeg\"/>\n",
       "<source src=\"/media/english-chinese-traditional/uk_pron_ogg/u/ukk/ukker/ukkero_028.ogg\" type=\"audio/ogg\"/>\n",
       "</amp-audio>\n",
       "<div class=\"i i-volume-up c_aud htc hdib hp hv-1 fon tcu tc-bd lmr-10 lpt-3\" on=\"tap: ampaudio1.play\" role=\"button\" tabindex=\"0\">\n",
       "</div>\n",
       "</span><span class=\"pron dpron\">/<span class=\"ipa dipa lpr-2 lpl-1\">kɪk</span>/</span></span> <span class=\"us dpron-i\"><span class=\"region dreg\">us</span><span class=\"daud\">\n",
       "<amp-audio controlslist=\"nodownload\" id=\"ampaudio2\" layout=\"nodisplay\" preload=\"none\">\n",
       "<div class=\"hdib\" fallback=\"\">\n",
       "<p>Your browser doesn't support HTML5 audio</p>\n",
       "</div>\n",
       "<source src=\"/media/english-chinese-traditional/us_pron/k/kic/kick_/kick.mp3\" type=\"audio/mpeg\"/>\n",
       "<source src=\"/media/english-chinese-traditional/us_pron_ogg/k/kic/kick_/kick.ogg\" type=\"audio/ogg\"/>\n",
       "</amp-audio>\n",
       "<div class=\"i i-volume-up c_aud htc hdib hp hv-1 fon tcu tc-bd lmr-10 lpt-3\" on=\"tap: ampaudio2.play\" role=\"button\" tabindex=\"0\">\n",
       "</div>\n",
       "</span><span class=\"pron dpron\">/<span class=\"ipa dipa lpr-2 lpl-1\">kɪk</span>/</span></span></div></span><span class=\"pv-body dpv-body\">\n",
       "<div class=\"pr dsense\"><div class=\"cid\" id=\"caldzh-cnt-1-1\"></div> <h3 class=\"dsense_h\"><span class=\"hw dsense_hw\"></span> <span class=\"guideword dsense_gw\" title=\"Guide word: helps you find the right meaning when a word has more than one meaning\">\n",
       "            (<span>START</span>)\n",
       "      </span></h3> <div class=\"sense-body dsense_b\"><div class=\"def-block ddef_block\" data-wl-senseid=\"ID_00017818_19\">\n",
       "<div class=\"dwl hax\">\n",
       "<a amp-access=\"loggedIn\" amp-access-hide=\"\" class=\"dwla wordlist-add-button\" on=\"tap:AMP.setState({ stateGlobal: { wlSenseId: 'ID_00017818_19' } }), sidebarWordList.open\" title=\"Add this meaning to a word list\">\n",
       "<i aria-hidden=\"true\" class=\"i i-plus\"></i>\n",
       "<i class=\"i i-list-ul\"></i>\n",
       "</a>\n",
       "<a amp-access=\"NOT loggedIn\" class=\"dwla wordlist-add-button\" on=\"tap:amp-access.login-sign-in\" title=\"Add this meaning to a word list\">\n",
       "<i aria-hidden=\"true\" class=\"i i-plus\"></i>\n",
       "<i class=\"i i-list-ul\"></i>\n",
       "</a>\n",
       "</div>\n",
       "<div class=\"ddef_h\"><span class=\"def-info ddef-info\"><span class=\"epp-xref dxref C1\">C1</span> </span><div class=\"def ddef_d db\">If a <a class=\"query\" href=\"https://dictionary.cambridge.org/dictionary/english-chinese-traditional/game\" title=\"game\">game</a> of <a class=\"query\" href=\"https://dictionary.cambridge.org/dictionary/english-chinese-traditional/football\" title=\"football\">football</a> <a class=\"query\" href=\"https://dictionary.cambridge.org/dictionary/english-chinese-traditional/kick\" title=\"kicks\">kicks</a> off, it <a class=\"query\" href=\"https://dictionary.cambridge.org/dictionary/english-chinese-traditional/start\" title=\"starts\">starts</a>.</div> </div><div class=\"def-body ddef_b\">\n",
       "<span class=\"trans dtrans dtrans-se\" lang=\"zh-Hant\">（足球比賽）開球，開始</span>\n",
       "<div class=\"examp dexamp\"> <span class=\"eg deg\">What <a class=\"query\" href=\"https://dictionary.cambridge.org/dictionary/english-chinese-traditional/time\" title=\"time\">time</a> does the <a class=\"query\" href=\"https://dictionary.cambridge.org/dictionary/english-chinese-traditional/game\" title=\"game\">game</a> <a class=\"query\" href=\"https://dictionary.cambridge.org/dictionary/english-chinese-traditional/kick\" title=\"kick\">kick</a> off?</span>\n",
       "<span class=\"trans dtrans dtrans-se hdb\" lang=\"zh-Hant\">比賽甚麼時候開始？</span>\n",
       "</div> <div class=\"xref see_also hax dxref-w lmt-25\"><strong class=\"xref-title dxref-t\">See also</strong><div class=\"lcs lmt-10 lmb-20\">\n",
       "<div class=\"item lc lc1 lpb-10 lpr-10\" data-position=\"1\"><a href=\"https://dictionary.cambridge.org/dictionary/english-chinese-traditional/kick-off\" title=\"meaning of kick-off\"><span class=\"x-h dx-h\">kick-off</span></a></div></div></div> </div></div></div> </div>\n",
       "<div class=\"pr dsense\"><div class=\"cid\" id=\"caldzh-cnt-1-2\"></div> <h3 class=\"dsense_h\"><span class=\"hw dsense_hw\"></span> <span class=\"guideword dsense_gw\" title=\"Guide word: helps you find the right meaning when a word has more than one meaning\">\n",
       "            (<span>TROUBLE OR EXCITEMENT</span>)\n",
       "      </span></h3> <div class=\"sense-body dsense_b\"><div class=\"def-block ddef_block\" data-wl-senseid=\"ID_00017818_20\">\n",
       "<div class=\"dwl hax\">\n",
       "<a amp-access=\"loggedIn\" amp-access-hide=\"\" class=\"dwla wordlist-add-button\" on=\"tap:AMP.setState({ stateGlobal: { wlSenseId: 'ID_00017818_20' } }), sidebarWordList.open\" title=\"Add this meaning to a word list\">\n",
       "<i aria-hidden=\"true\" class=\"i i-plus\"></i>\n",
       "<i class=\"i i-list-ul\"></i>\n",
       "</a>\n",
       "<a amp-access=\"NOT loggedIn\" class=\"dwla wordlist-add-button\" on=\"tap:amp-access.login-sign-in\" title=\"Add this meaning to a word list\">\n",
       "<i aria-hidden=\"true\" class=\"i i-plus\"></i>\n",
       "<i class=\"i i-list-ul\"></i>\n",
       "</a>\n",
       "</div>\n",
       "<div class=\"ddef_h\"><span class=\"def-info ddef-info\"> <span class=\"lab dlab\"><span class=\"usage dusage\">informal</span></span></span> <div class=\"def ddef_d db\">to <a class=\"query\" href=\"https://dictionary.cambridge.org/dictionary/english-chinese-traditional/start\" title=\"start\">start</a> to get <a class=\"query\" href=\"https://dictionary.cambridge.org/dictionary/english-chinese-traditional/angry\" title=\"angry\">angry</a> or <a class=\"query\" href=\"https://dictionary.cambridge.org/dictionary/english-chinese-traditional/complain\" title=\"complain\">complain</a> in a <a class=\"query\" href=\"https://dictionary.cambridge.org/dictionary/english-chinese-traditional/noisy\" title=\"noisy\">noisy</a> way</div> </div><div class=\"def-body ddef_b\">\n",
       "<span class=\"trans dtrans dtrans-se\" lang=\"zh-Hant\">生氣；吵嚷地抱怨</span>\n",
       "<div class=\"examp dexamp\"> <span class=\"eg deg\">The <a class=\"query\" href=\"https://dictionary.cambridge.org/dictionary/english-chinese-traditional/children\" title=\"children\">children</a> <a class=\"query\" href=\"https://dictionary.cambridge.org/dictionary/english-chinese-traditional/start\" title=\"started\">started</a> to <a class=\"query\" href=\"https://dictionary.cambridge.org/dictionary/english-chinese-traditional/kick\" title=\"kick\">kick</a> off so I couldn't <a class=\"query\" href=\"https://dictionary.cambridge.org/dictionary/english-chinese-traditional/stay\" title=\"stay\">stay</a>.</span>\n",
       "<span class=\"trans dtrans dtrans-se hdb\" lang=\"zh-Hant\">孩子都開始吵嚷地抱怨了，因此我必須走了。</span>\n",
       "</div> </div></div></div> </div>\n",
       "<div class=\"pr dsense\"><div class=\"cid\" id=\"caldzh-cnt-1-3\"></div> <h3 class=\"dsense_h\"><span class=\"hw dsense_hw\"></span> <span class=\"guideword dsense_gw\" title=\"Guide word: helps you find the right meaning when a word has more than one meaning\">\n",
       "            (<span>DIE</span>)\n",
       "      </span></h3> <div class=\"sense-body dsense_b\"><div class=\"def-block ddef_block\" data-wl-senseid=\"ID_00017818_29\">\n",
       "<div class=\"dwl hax\">\n",
       "<a amp-access=\"loggedIn\" amp-access-hide=\"\" class=\"dwla wordlist-add-button\" on=\"tap:AMP.setState({ stateGlobal: { wlSenseId: 'ID_00017818_29' } }), sidebarWordList.open\" title=\"Add this meaning to a word list\">\n",
       "<i aria-hidden=\"true\" class=\"i i-plus\"></i>\n",
       "<i class=\"i i-list-ul\"></i>\n",
       "</a>\n",
       "<a amp-access=\"NOT loggedIn\" class=\"dwla wordlist-add-button\" on=\"tap:amp-access.login-sign-in\" title=\"Add this meaning to a word list\">\n",
       "<i aria-hidden=\"true\" class=\"i i-plus\"></i>\n",
       "<i class=\"i i-list-ul\"></i>\n",
       "</a>\n",
       "</div>\n",
       "<div class=\"ddef_h\"><span class=\"def-info ddef-info\"> <span class=\"lab dlab\"><span class=\"region dregion\">US</span> <span class=\"usage dusage\">informal</span></span></span> <div class=\"def ddef_d db\">to <a class=\"query\" href=\"https://dictionary.cambridge.org/dictionary/english-chinese-traditional/die\" title=\"die\">die</a></div> </div><div class=\"def-body ddef_b\">\n",
       "<span class=\"trans dtrans dtrans-se\" lang=\"zh-Hant\">死掉</span>\n",
       "</div></div></div> </div></span></div>"
      ]
     },
     "execution_count": 27,
     "metadata": {},
     "output_type": "execute_result"
    }
   ],
   "source": [
    "bs.select('.entry-body__el')[0].select('.pv-block')[0]"
   ]
  },
  {
   "cell_type": "code",
   "execution_count": null,
   "metadata": {},
   "outputs": [],
   "source": []
  },
  {
   "cell_type": "code",
   "execution_count": 7,
   "metadata": {},
   "outputs": [],
   "source": [
    "tmp = list(filter(lambda x: int(len(x.pos_blocks) == 0), vocab_page_list))"
   ]
  },
  {
   "cell_type": "code",
   "execution_count": 8,
   "metadata": {},
   "outputs": [
    {
     "data": {
      "text/plain": [
       "235"
      ]
     },
     "execution_count": 8,
     "metadata": {},
     "output_type": "execute_result"
    }
   ],
   "source": [
    "len(tmp)"
   ]
  },
  {
   "cell_type": "code",
   "execution_count": 52,
   "metadata": {},
   "outputs": [
    {
     "data": {
      "text/plain": [
       "1"
      ]
     },
     "execution_count": 52,
     "metadata": {},
     "output_type": "execute_result"
    }
   ],
   "source": [
    "len(vocab_page_list[0].pos_blocks)"
   ]
  },
  {
   "cell_type": "code",
   "execution_count": 5,
   "metadata": {},
   "outputs": [
    {
     "name": "stdout",
     "output_type": "stream",
     "text": [
      "`cat`\n",
      "noun\n",
      "guide word: \n",
      "\n",
      "--------------------\n",
      "\n",
      "`sense blocks`\n",
      "en def: a small animal with fur, four legs, a tail, and claws, usually kept as a pet or for catching mice \n",
      "ch def: 貓\n",
      "level: A1\n",
      "example sents:\n",
      "[]\n",
      "\n",
      "####################\n",
      "\n",
      "en def: any member of the group of animals similar to the cat, such as the lion\n",
      "ch def: 貓科動物\n",
      "level: \n",
      "example sents:\n",
      "[{'en': 'the cat family ', 'ch': ''}]\n",
      "\n",
      "####################\n",
      "\n",
      "\n",
      "--------------------\n",
      "\n",
      "`phrase_blocks`\n",
      "\n",
      "--------------------\n",
      "\n",
      "`extra sents`\n",
      "['My cat likes dozing in front of the fire.', \"I usually feed the neighbour's cat while she's away.\", \"She's always chasing cats out of the garden to protect her precious birds.\", 'A cat was miaowing pitifully outside the door.', 'The cat purred as I stroked its fur.']\n",
      "\n",
      "====================\n",
      "\n",
      "\n",
      "********************\n",
      "\n"
     ]
    }
   ],
   "source": [
    "vocab = 'cat'\n",
    "home_url = 'https://dictionary.cambridge.org/dictionary/english-chinese-traditional'\n",
    "res = requests.get(os.path.join(home_url, vocab))\n",
    "bs = BeautifulSoup(res.text, 'html.parser')\n",
    "vocab_page = VocabPage(vocab, bs)\n",
    "print_vocab_page(vocab_page)"
   ]
  },
  {
   "cell_type": "code",
   "execution_count": 28,
   "metadata": {},
   "outputs": [],
   "source": [
    "def fetch_vocab_data(page_bs):\n",
    "    pos_blocks = fetch_pos_blocks(page_bs)\n",
    "    vocab_data = {}\n",
    "    for pos_block in pos_blocks:\n",
    "        pos_tag = fetch_pos_tag(pos_block)\n",
    "        big_sense_blocks = fetch_big_sense_blocks(pos_block)\n",
    "        big_sense_data_list = []\n",
    "        for big_sense_block in big_sense_blocks:\n",
    "            guide_word = fetch_guide_word(big_sense_block)\n",
    "            extra_sents = fetch_extra_examples(big_sense_block)\n",
    "            senses_data = [fetch_sense_data(sense_block)\n",
    "                           for sense_block in fetch_sense_blocks(big_sense_block)]\n",
    "            big_sense_data = {'sense': senses_data,\n",
    "                              'extra_sents': extra_sents,\n",
    "                              'guidword': guide_word}\n",
    "            big_sense_data_list.append(big_sense_data)\n",
    "        vocab_data[pos_tag] = big_sense_data_list\n",
    "    return vocab_data"
   ]
  },
  {
   "cell_type": "code",
   "execution_count": 29,
   "metadata": {},
   "outputs": [],
   "source": [
    "res = requests.get(os.path.join(home_url, 'back'))\n",
    "bank_bs = BeautifulSoup(res.text, 'html.parser')\n",
    "bank_data = fetch_vocab_data(bank_bs)"
   ]
  },
  {
   "cell_type": "code",
   "execution_count": 47,
   "metadata": {},
   "outputs": [],
   "source": [
    "with open('/home/old/fun/crawling-cambridge-dictionary/cambridge.word.666.json', 'r') as f:\n",
    "    camb_dict = json.load(f)"
   ]
  },
  {
   "cell_type": "code",
   "execution_count": 48,
   "metadata": {},
   "outputs": [
    {
     "ename": "KeyError",
     "evalue": "'come-to-that'",
     "output_type": "error",
     "traceback": [
      "\u001b[0;31m---------------------------------------------------------------------------\u001b[0m",
      "\u001b[0;31mKeyError\u001b[0m                                  Traceback (most recent call last)",
      "\u001b[0;32m<ipython-input-48-acf78d6b3080>\u001b[0m in \u001b[0;36m<module>\u001b[0;34m\u001b[0m\n\u001b[0;32m----> 1\u001b[0;31m \u001b[0mcamb_dict\u001b[0m\u001b[0;34m[\u001b[0m\u001b[0;34m'come-to-that'\u001b[0m\u001b[0;34m]\u001b[0m\u001b[0;34m\u001b[0m\u001b[0;34m\u001b[0m\u001b[0m\n\u001b[0m",
      "\u001b[0;31mKeyError\u001b[0m: 'come-to-that'"
     ]
    }
   ],
   "source": [
    "camb_dict['come-to-that']"
   ]
  },
  {
   "cell_type": "code",
   "execution_count": null,
   "metadata": {},
   "outputs": [],
   "source": []
  }
 ],
 "metadata": {
  "kernelspec": {
   "display_name": "Python 3",
   "language": "python",
   "name": "python3"
  },
  "language_info": {
   "codemirror_mode": {
    "name": "ipython",
    "version": 3
   },
   "file_extension": ".py",
   "mimetype": "text/x-python",
   "name": "python",
   "nbconvert_exporter": "python",
   "pygments_lexer": "ipython3",
   "version": "3.7.6"
  }
 },
 "nbformat": 4,
 "nbformat_minor": 4
}
