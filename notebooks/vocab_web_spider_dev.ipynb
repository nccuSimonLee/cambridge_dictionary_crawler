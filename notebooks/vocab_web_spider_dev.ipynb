{
 "cells": [
  {
   "cell_type": "code",
   "execution_count": 1,
   "metadata": {},
   "outputs": [],
   "source": [
    "import os\n",
    "import requests\n",
    "from bs4 import BeautifulSoup\n",
    "import json\n",
    "import random\n",
    "import sys\n",
    "import tqdm\n",
    "sys.path.append('../')\n",
    "from ScrambleDict.ScrambleDict.page_parser.vocab_page import VocabPage\n",
    "from ScrambleDict.ScrambleDict.page_parser.utils import fetch_vocab_data, find_all"
   ]
  },
  {
   "cell_type": "code",
   "execution_count": 2,
   "metadata": {},
   "outputs": [],
   "source": [
    "def print_bar(symbol):\n",
    "    print('\\n' + symbol * 20 + '\\n')\n",
    "\n",
    "def print_vocab_page(vocab_page):\n",
    "    print(f'`{vocab_page.vocab}`')\n",
    "    for pos_block in vocab_page.pos_blocks:\n",
    "        print(pos_block.pos_tag)\n",
    "        for big_sense_block in pos_block.big_sense_blocks:\n",
    "            print(f'guide word: {big_sense_block.guideword}')\n",
    "            print_bar('-')\n",
    "            print('`sense blocks`')\n",
    "            for sense_block in big_sense_block.sense_blocks:\n",
    "                print(f'en def: {sense_block.en_def}')\n",
    "                print(f'ch def: {sense_block.ch_def}')\n",
    "                print(f'level: {sense_block.level}')\n",
    "                print('example sents:')\n",
    "                print(sense_block.examples)\n",
    "                print_bar('#')\n",
    "            print_bar('-')\n",
    "            print('`phrase_blocks`')\n",
    "            for phrase_block in big_sense_block.phrase_blocks:\n",
    "                print(f'term: {phrase_block.term}')\n",
    "                print(f'level: {phrase_block.level}')\n",
    "                print('sense list:')\n",
    "                print(phrase_block.sense_list)\n",
    "            print_bar('-')\n",
    "            print('`extra sents`')\n",
    "            print(big_sense_block.extra_sents)\n",
    "            print_bar('=')\n",
    "        print_bar('*')"
   ]
  },
  {
   "cell_type": "code",
   "execution_count": 19,
   "metadata": {},
   "outputs": [],
   "source": [
    "with open('../ScrambleDict/vocab_urls.csv', 'r') as f:\n",
    "    vocab_urls = f.read().split('\\n')[1:-1]"
   ]
  },
  {
   "cell_type": "code",
   "execution_count": 21,
   "metadata": {},
   "outputs": [],
   "source": [
    "from collections import Counter\n",
    "for url, count in Counter(vocab_urls).items():\n",
    "    if count > 1:\n",
    "        print(url)"
   ]
  },
  {
   "cell_type": "code",
   "execution_count": 4,
   "metadata": {},
   "outputs": [],
   "source": [
    "random.seed(104702016)\n",
    "sample_urls = random.choices(vocab_urls, k=2000)"
   ]
  },
  {
   "cell_type": "code",
   "execution_count": 5,
   "metadata": {},
   "outputs": [
    {
     "name": "stderr",
     "output_type": "stream",
     "text": [
      "/home/nlplab/simon/anaconda3/lib/python3.7/site-packages/ipykernel_launcher.py:3: TqdmDeprecationWarning: This function will be removed in tqdm==5.0.0\n",
      "Please use `tqdm.notebook.tqdm` instead of `tqdm.tqdm_notebook`\n",
      "  This is separate from the ipykernel package so we can avoid doing imports until\n"
     ]
    },
    {
     "data": {
      "application/vnd.jupyter.widget-view+json": {
       "model_id": "a2b75f63700440deb327b49534e93a02",
       "version_major": 2,
       "version_minor": 0
      },
      "text/plain": [
       "HBox(children=(FloatProgress(value=0.0, max=2000.0), HTML(value='')))"
      ]
     },
     "metadata": {},
     "output_type": "display_data"
    },
    {
     "name": "stdout",
     "output_type": "stream",
     "text": [
      "\n"
     ]
    }
   ],
   "source": [
    "vocab_page_list = []\n",
    "problematic_urls = []\n",
    "for url in tqdm.tqdm_notebook(sample_urls):\n",
    "    vocab = url.split('/')[-1]\n",
    "    res = requests.get(url)\n",
    "    bs = BeautifulSoup(res.text, 'html.parser')\n",
    "    try:\n",
    "        vocab_page_list.append(VocabPage(vocab, bs))\n",
    "    except IndexError:\n",
    "        problematic_urls.append(url)"
   ]
  },
  {
   "cell_type": "code",
   "execution_count": 35,
   "metadata": {},
   "outputs": [
    {
     "data": {
      "text/plain": [
       "'https://dictionary.cambridge.org/dictionary/english-chinese-traditional/back-down'"
      ]
     },
     "execution_count": 35,
     "metadata": {},
     "output_type": "execute_result"
    }
   ],
   "source": [
    "problematic_urls[18]"
   ]
  },
  {
   "cell_type": "code",
   "execution_count": 2,
   "metadata": {},
   "outputs": [],
   "source": [
    "res = requests.get('https://dictionary.cambridge.org/dictionary/english-chinese-traditional/back')\n",
    "bs = BeautifulSoup(res.text, 'html.parser')\n",
    "vocab_page = VocabPage('second-best', bs)\n",
    "vocab_data = fetch_vocab_data(vocab_page)\n",
    "#print_vocab_page(vocab_page)"
   ]
  },
  {
   "cell_type": "code",
   "execution_count": 11,
   "metadata": {},
   "outputs": [
    {
     "data": {
      "text/plain": [
       "{'headword': 'back',\n",
       " 'big_sense': [{'guideword': '(SUPPORT)',\n",
       "   'sense': [{'en_def': 'to give support to someone or something with money or words',\n",
       "     'ch_def': '支持；資助，援助',\n",
       "     'level': 'C2',\n",
       "     'gcs': 'T',\n",
       "     'examples': [{'en': 'The management has refused to back our proposals.',\n",
       "       'ch': '管理層拒不支持我們的提議。'}]}],\n",
       "   'phrase': [],\n",
       "   'extra_sents': ['This theory needs to be backed up with solid empirical evidence.',\n",
       "    'The troops were backed by tanks, artillery, and other heavy armour.',\n",
       "    'It is hoped that all sides will back the peace plan.',\n",
       "    \"A poll indicated that 77 percent of Americans backed the president's plan, with only 6 percent in opposition.\",\n",
       "    'Although Paris backs the U.N. demands, it has made it clear it will not take part in any new military action.']},\n",
       "  {'guideword': '(RISK MONEY)',\n",
       "   'sense': [{'en_def': 'to risk money by saying that you think a horse, team, etc. will win a race, game, or competition in order to win more money if they do',\n",
       "     'ch_def': '下賭注於',\n",
       "     'level': '',\n",
       "     'gcs': '',\n",
       "     'examples': [{'en': 'The horse I backed came in last.',\n",
       "       'ch': '我投注的那匹馬得了最後一名。'}]}],\n",
       "   'phrase': [],\n",
       "   'extra_sents': []},\n",
       "  {'guideword': '(MOVE AWAY)',\n",
       "   'sense': [{'en_def': 'to (cause to) move backwards',\n",
       "     'ch_def': '（使）退後；使倒退',\n",
       "     'level': 'C2',\n",
       "     'gcs': 'I or T,  + adv/prep',\n",
       "     'examples': [{'en': 'Ann gave up driving when she backed the car into the garage door.',\n",
       "       'ch': '安倒車時撞上了車庫大門，於是她從此再也不駕車了。'},\n",
       "      {'en': 'Please could you back your car up a few feet so that I can get mine out of the driveway?',\n",
       "       'ch': '請你把車往後倒幾英尺，讓我把車開出車道，好嗎？'}]}],\n",
       "   'phrase': [],\n",
       "   'extra_sents': []},\n",
       "  {'guideword': '(COVER)',\n",
       "   'sense': [{'en_def': 'to cover the back of something with a material, often to make it stronger or thicker',\n",
       "     'ch_def': '為某物加背襯使其更加堅固或厚實',\n",
       "     'level': '',\n",
       "     'gcs': 'T',\n",
       "     'examples': [{'en': 'The material is backed with a heavy lining.',\n",
       "       'ch': '這種衣料的裡補很厚實。'}]}],\n",
       "   'phrase': [],\n",
       "   'extra_sents': []}]}"
      ]
     },
     "execution_count": 11,
     "metadata": {},
     "output_type": "execute_result"
    }
   ],
   "source": [
    "vocab_data['verb'][0]"
   ]
  },
  {
   "cell_type": "code",
   "execution_count": 3,
   "metadata": {},
   "outputs": [
    {
     "data": {
      "text/plain": [
       "'I or T,  + adv/prep'"
      ]
     },
     "execution_count": 3,
     "metadata": {},
     "output_type": "execute_result"
    }
   ],
   "source": [
    "vocab_page.pos_blocks[2].big_sense_blocks[2].sense_blocks[0].gcs"
   ]
  },
  {
   "cell_type": "code",
   "execution_count": 7,
   "metadata": {},
   "outputs": [
    {
     "data": {
      "text/plain": [
       "{'guideword': '',\n",
       " 'sense': [{'en_def': 'the part, space, or side of something that is inside',\n",
       "   'ch_def': '裡面，內部',\n",
       "   'level': 'B2',\n",
       "   'examples': [{'en': 'Did you clean the inside of the car?',\n",
       "     'ch': '你把車內部擦乾淨了嗎？'},\n",
       "    {'en': 'The hotel looked shabby from the street, but it was fine on the inside.',\n",
       "     'ch': '這家飯店從街上看去顯得很破舊，但裡面很好。'},\n",
       "    {'en': \"the insides of people's houses\", 'ch': '人們的房子內部'}]},\n",
       "  {'en_def': 'The inside of a part of the body such as the arm or leg is the part facing in towards the rest of the body.',\n",
       "   'ch_def': '（肢體的）內側',\n",
       "   'level': '',\n",
       "   'examples': [{'en': 'She dabbed perfume on the inside of her wrist.',\n",
       "     'ch': '她在手腕內側搽了香水。'}]}],\n",
       " 'phrase': [{'term': 'insides',\n",
       "   'level': '',\n",
       "   'sense': [{'en_def': \"a person's or animal's internal organs, especially the stomach or bowels\",\n",
       "     'ch_def': '內臟，（尤指）腸胃',\n",
       "     'examples': [{'en': \"The dead seal's insides were spread all over the snow.\",\n",
       "       'ch': '死海豹的內臟散落在雪地上。'}]}]}],\n",
       " 'extra_sents': [\"The inside of the house is in good condition, but externally it's in need of repair.\",\n",
       "  'The door bolts on the inside.',\n",
       "  \"There's a lovely soft furry lining on the inside of this jacket.\",\n",
       "  \"I can't send her a birthday card that has a rude message printed on the inside.\",\n",
       "  'The inside of the shed was absolutely covered in cobwebs.']}"
      ]
     },
     "execution_count": 7,
     "metadata": {},
     "output_type": "execute_result"
    }
   ],
   "source": [
    "vocab_data['noun'][0]['big_sense'][0]"
   ]
  },
  {
   "cell_type": "code",
   "execution_count": 30,
   "metadata": {},
   "outputs": [
    {
     "data": {
      "text/plain": [
       "'inside'"
      ]
     },
     "execution_count": 30,
     "metadata": {},
     "output_type": "execute_result"
    }
   ],
   "source": [
    "vocab_page.pos_blocks[4].headword"
   ]
  },
  {
   "cell_type": "code",
   "execution_count": 32,
   "metadata": {},
   "outputs": [
    {
     "data": {
      "text/plain": [
       "[{'guideword': '',\n",
       "  'sense': [{'en_def': 'the part, space, or side of something that is inside',\n",
       "    'ch_def': '裡面，內部',\n",
       "    'level': 'B2',\n",
       "    'examples': [{'en': 'Did you clean the inside of the car?',\n",
       "      'ch': '你把車內部擦乾淨了嗎？'},\n",
       "     {'en': 'The hotel looked shabby from the street, but it was fine on the inside.',\n",
       "      'ch': '這家飯店從街上看去顯得很破舊，但裡面很好。'},\n",
       "     {'en': \"the insides of people's houses\", 'ch': '人們的房子內部'}]},\n",
       "   {'en_def': 'The inside of a part of the body such as the arm or leg is the part facing in towards the rest of the body.',\n",
       "    'ch_def': '（肢體的）內側',\n",
       "    'level': '',\n",
       "    'examples': [{'en': 'She dabbed perfume on the inside of her wrist.',\n",
       "      'ch': '她在手腕內側搽了香水。'}]}],\n",
       "  'phrase': [{'term': 'insides',\n",
       "    'level': '',\n",
       "    'sense': [{'en_def': \"a person's or animal's internal organs, especially the stomach or bowels\",\n",
       "      'ch_def': '內臟，（尤指）腸胃',\n",
       "      'examples': [{'en': \"The dead seal's insides were spread all over the snow.\",\n",
       "        'ch': '死海豹的內臟散落在雪地上。'}]}]}],\n",
       "  'extra_sents': [\"The inside of the house is in good condition, but externally it's in need of repair.\",\n",
       "   'The door bolts on the inside.',\n",
       "   \"There's a lovely soft furry lining on the inside of this jacket.\",\n",
       "   \"I can't send her a birthday card that has a rude message printed on the inside.\",\n",
       "   'The inside of the shed was absolutely covered in cobwebs.']}]"
      ]
     },
     "execution_count": 32,
     "metadata": {},
     "output_type": "execute_result"
    }
   ],
   "source": [
    "vocab_data['noun'][0]"
   ]
  },
  {
   "cell_type": "code",
   "execution_count": 17,
   "metadata": {},
   "outputs": [
    {
     "data": {
      "text/plain": [
       "'back'"
      ]
     },
     "execution_count": 17,
     "metadata": {},
     "output_type": "execute_result"
    }
   ],
   "source": [
    "vocab_page.pos_blocks[3].headword"
   ]
  },
  {
   "cell_type": "code",
   "execution_count": 11,
   "metadata": {},
   "outputs": [],
   "source": [
    "res = requests.get('https://dictionary.cambridge.org/dictionary/english-chinese-traditional/vt')\n",
    "bs = BeautifulSoup(res.text, 'html.parser')\n",
    "vocab_page = VocabPage('kick-off', bs)\n",
    "#print_vocab_page(vocab_page)"
   ]
  },
  {
   "cell_type": "code",
   "execution_count": 3,
   "metadata": {},
   "outputs": [],
   "source": [
    "def fetch_vocab_data(vocab_page):\n",
    "    vocab_data = {}\n",
    "    fo.examples pos_block in vocab_page.pos_blocks:\n",
    "        big_sense_data_list = [fetch_big_sense_data(big_sense_block)\n",
    "                               for big_sense_block in pos_block.big_sense_blocks]\n",
    "        vocab_data[pos_block.pos_tag] = big_sense_data_list\n",
    "    return vocab_data\n",
    "\n",
    "def fetch_big_sense_data(big_sense_block):\n",
    "    big_sense_data = {\n",
    "        'guideword': big_sense_block.guideword,\n",
    "        'sense': [fetch_sense_data(sense_block)\n",
    "                  for sense_block in big_sense_block.sense_blocks],\n",
    "        'phrase': [fetch_phrase_data(phrase_block)\n",
    "                   for phrase_block in big_sense_block.phrase_blocks],\n",
    "        'extra_sents': big_sense_block.extra_sents\n",
    "    }\n",
    "    return big_sense_data\n",
    "\n",
    "def fetch_sense_data(sense_block):\n",
    "    sense_data = {\n",
    "        'en_def': sense_block.en_def,\n",
    "        'ch_def': sense_block.ch_def,\n",
    "        'level': sense_block.level,\n",
    "        'examples': sense_block.examples\n",
    "    }\n",
    "    return sense_data\n",
    "\n",
    "def fetch_phrase_data(phrase_block):\n",
    "    phrase_data = {\n",
    "        'term': phrase_block.term,\n",
    "        'level': phrase_block.level,\n",
    "        'sense': phrase_block.sense_list\n",
    "    }\n",
    "    return phrase_data"
   ]
  },
  {
   "cell_type": "code",
   "execution_count": 8,
   "metadata": {},
   "outputs": [],
   "source": [
    "tmp = list(filter(lambda x: int(len(x.pos_blocks) == 0), vocab_page_list))"
   ]
  },
  {
   "cell_type": "code",
   "execution_count": 41,
   "metadata": {},
   "outputs": [],
   "source": [
    "vocab = 'caddie'\n",
    "home_url = 'https://dictionary.cambridge.org/dictionary/english-chinese-traditional'\n",
    "res = requests.get(os.path.join(home_url, vocab))\n",
    "bs = BeautifulSoup(res.text, 'html.parser')\n",
    "vocab_page = VocabPage(vocab, bs)\n",
    "vocab_data = fetch_vocab_data(vocab_page)"
   ]
  },
  {
   "cell_type": "code",
   "execution_count": 80,
   "metadata": {},
   "outputs": [],
   "source": [
    "p = []\n",
    "for vocab, data in tmp_data.items():\n",
    "    if data and '' in data.keys():\n",
    "        p.append({vocab: data})"
   ]
  },
  {
   "cell_type": "code",
   "execution_count": 29,
   "metadata": {},
   "outputs": [],
   "source": [
    "res = requests.get(os.path.join(home_url, 'back'))\n",
    "bank_bs = BeautifulSoup(res.text, 'html.parser')\n",
    "bank_data = fetch_vocab_data(bank_bs)"
   ]
  },
  {
   "cell_type": "code",
   "execution_count": 38,
   "metadata": {},
   "outputs": [],
   "source": [
    "with open('/home/old/fun/crawling-cambridge-dictionary/cambridge.word.666.json', 'r') as f:\n",
    "    camb_dict = json.load(f)"
   ]
  },
  {
   "cell_type": "code",
   "execution_count": 52,
   "metadata": {},
   "outputs": [
    {
     "data": {
      "text/plain": [
       "'He jotted her name down on the back of an envelope.'"
      ]
     },
     "execution_count": 52,
     "metadata": {},
     "output_type": "execute_result"
    }
   ],
   "source": [
    "camb_dict['back']['noun'][0]['sense'][0]['examples'][0]"
   ]
  },
  {
   "cell_type": "code",
   "execution_count": 3,
   "metadata": {},
   "outputs": [],
   "source": [
    "with open('../ScrambleDict/vocab_data.json', 'r') as f:\n",
    "    tmp_data = json.load(f)"
   ]
  },
  {
   "cell_type": "code",
   "execution_count": 6,
   "metadata": {},
   "outputs": [
    {
     "ename": "ValueError",
     "evalue": "not enough values to unpack (expected 2, got 1)",
     "output_type": "error",
     "traceback": [
      "\u001b[0;31m---------------------------------------------------------------------------\u001b[0m",
      "\u001b[0;31mValueError\u001b[0m                                Traceback (most recent call last)",
      "\u001b[0;32m<ipython-input-6-1b6d4bc2cfa8>\u001b[0m in \u001b[0;36m<module>\u001b[0;34m\u001b[0m\n\u001b[1;32m      1\u001b[0m \u001b[0;32mfor\u001b[0m \u001b[0mvd\u001b[0m \u001b[0;32min\u001b[0m \u001b[0mtmp_data\u001b[0m\u001b[0;34m[\u001b[0m\u001b[0;34m:\u001b[0m\u001b[0;36m5\u001b[0m\u001b[0;34m]\u001b[0m\u001b[0;34m:\u001b[0m\u001b[0;34m\u001b[0m\u001b[0;34m\u001b[0m\u001b[0m\n\u001b[0;32m----> 2\u001b[0;31m     \u001b[0mvocab\u001b[0m\u001b[0;34m,\u001b[0m \u001b[0mdata\u001b[0m \u001b[0;34m=\u001b[0m \u001b[0mvd\u001b[0m\u001b[0;34m.\u001b[0m\u001b[0mitems\u001b[0m\u001b[0;34m(\u001b[0m\u001b[0;34m)\u001b[0m\u001b[0;34m\u001b[0m\u001b[0;34m\u001b[0m\u001b[0m\n\u001b[0m",
      "\u001b[0;31mValueError\u001b[0m: not enough values to unpack (expected 2, got 1)"
     ]
    }
   ],
   "source": [
    "for vd in tmp_data[:5]:\n",
    "    vocab, data = vd.items()"
   ]
  },
  {
   "cell_type": "code",
   "execution_count": 10,
   "metadata": {},
   "outputs": [
    {
     "data": {
      "text/plain": [
       "dict_items([('b', {'': [{'guideword': '', 'sense': [{'en_def': 'written abbreviation for\\nborn verb ', 'ch_def': '出生（born的縮寫）', 'level': '', 'examples': [{'en': 'John Winston Lennon (b. 9 October 1940, Liverpool, d. 8 December 1980, New York).', 'ch': '約翰‧溫斯頓‧連儂（1940年10月9日生於利物浦，1980年12月8日卒於紐約）'}]}], 'phrase': [], 'extra_sents': []}]})])"
      ]
     },
     "execution_count": 10,
     "metadata": {},
     "output_type": "execute_result"
    }
   ],
   "source": [
    "vd.items()"
   ]
  },
  {
   "cell_type": "code",
   "execution_count": 62,
   "metadata": {},
   "outputs": [
    {
     "data": {
      "text/plain": [
       "'b'"
      ]
     },
     "execution_count": 62,
     "metadata": {},
     "output_type": "execute_result"
    }
   ],
   "source": [
    "list(tmp_data[0].keys())[0]"
   ]
  },
  {
   "cell_type": "code",
   "execution_count": 68,
   "metadata": {},
   "outputs": [],
   "source": [
    "tmp_data = {list(x.keys())[0]: list(x.values())[0]\n",
    "            for x in tmp_data}"
   ]
  },
  {
   "cell_type": "code",
   "execution_count": 74,
   "metadata": {},
   "outputs": [],
   "source": [
    "p = []\n",
    "for x in tmp_data:\n",
    "    if not tmp_data[x]:\n",
    "        p.append(x)"
   ]
  },
  {
   "cell_type": "code",
   "execution_count": 28,
   "metadata": {},
   "outputs": [],
   "source": [
    "res = requests.get('https://dictionary.cambridge.org/dictionary/english-chinese-traditional/application')\n",
    "bs = BeautifulSoup(res.text, 'html.parser')"
   ]
  },
  {
   "cell_type": "code",
   "execution_count": 35,
   "metadata": {},
   "outputs": [
    {
     "data": {
      "text/plain": [
       "'[ C or U ]'"
      ]
     },
     "execution_count": 35,
     "metadata": {},
     "output_type": "execute_result"
    }
   ],
   "source": [
    "bs.select('.dgram')[0].text"
   ]
  },
  {
   "cell_type": "code",
   "execution_count": 27,
   "metadata": {},
   "outputs": [
    {
     "data": {
      "text/plain": [
       "'fiancé'"
      ]
     },
     "execution_count": 27,
     "metadata": {},
     "output_type": "execute_result"
    }
   ],
   "source": [
    "pos_blocks_bs = bs.select('div.entry-body__el')\n",
    "header_bs = pos_blocks_bs[0].select('.pos-header')\n",
    "title_bs = header_bs[0].select('.di-title')[0]\n",
    "title_bs.select('.dpos-h_hw')[0].text"
   ]
  },
  {
   "cell_type": "code",
   "execution_count": 21,
   "metadata": {},
   "outputs": [
    {
     "data": {
      "text/plain": [
       "<div class=\"pos-header dpos-h\"><span class=\"anc-info-head danc-info-head\">— <span class=\"pos dpos\" title=\"Verb with an adverb or preposition, with meaning different from meaning of its parts.\">phrasal verb</span> with <span class=\"hw dhw\">kick</span> </span><span class=\"pos dpos\" title=\"A word that describes an action, condition or experience.\">verb</span> <div></div><span class=\"uk dpron-i\"><span class=\"region dreg\">uk</span><span class=\"daud\">\n",
       "<amp-audio controlslist=\"nodownload\" id=\"ampaudio1\" layout=\"nodisplay\" preload=\"none\">\n",
       "<div class=\"hdib\" fallback=\"\">\n",
       "<p>Your browser doesn't support HTML5 audio</p>\n",
       "</div>\n",
       "<source src=\"/media/english-chinese-traditional/uk_pron/u/ukk/ukker/ukkero_028.mp3\" type=\"audio/mpeg\"/>\n",
       "<source src=\"/media/english-chinese-traditional/uk_pron_ogg/u/ukk/ukker/ukkero_028.ogg\" type=\"audio/ogg\"/>\n",
       "</amp-audio>\n",
       "<div class=\"i i-volume-up c_aud htc hdib hp hv-1 fon tcu tc-bd lmr-10 lpt-3\" on=\"tap: ampaudio1.play\" role=\"button\" tabindex=\"0\">\n",
       "</div>\n",
       "</span><span class=\"pron dpron\">/<span class=\"ipa dipa lpr-2 lpl-1\">kɪk</span>/</span></span> <span class=\"us dpron-i\"><span class=\"region dreg\">us</span><span class=\"daud\">\n",
       "<amp-audio controlslist=\"nodownload\" id=\"ampaudio2\" layout=\"nodisplay\" preload=\"none\">\n",
       "<div class=\"hdib\" fallback=\"\">\n",
       "<p>Your browser doesn't support HTML5 audio</p>\n",
       "</div>\n",
       "<source src=\"/media/english-chinese-traditional/us_pron/k/kic/kick_/kick.mp3\" type=\"audio/mpeg\"/>\n",
       "<source src=\"/media/english-chinese-traditional/us_pron_ogg/k/kic/kick_/kick.ogg\" type=\"audio/ogg\"/>\n",
       "</amp-audio>\n",
       "<div class=\"i i-volume-up c_aud htc hdib hp hv-1 fon tcu tc-bd lmr-10 lpt-3\" on=\"tap: ampaudio2.play\" role=\"button\" tabindex=\"0\">\n",
       "</div>\n",
       "</span><span class=\"pron dpron\">/<span class=\"ipa dipa lpr-2 lpl-1\">kɪk</span>/</span></span></div>"
      ]
     },
     "execution_count": 21,
     "metadata": {},
     "output_type": "execute_result"
    }
   ],
   "source": [
    "pos_blocks_bs = bs.select('div.entry-body__el')\n",
    "pos_blocks_bs = pos_blocks_bs[0].select('.pv-block')\n",
    "#header_bs = pos_blocks_bs[0].select('.pos-header')[0]\n",
    "title_bs = pos_blocks_bs[0].select('.di-title')[0]\n",
    "title_bs.select('.dpos-h_hw')[0].text"
   ]
  },
  {
   "cell_type": "code",
   "execution_count": 23,
   "metadata": {},
   "outputs": [],
   "source": [
    "res = requests.get('https://dictionary.cambridge.org/dictionary/english-chinese-traditional/second-best')\n",
    "bs = BeautifulSoup(res.text, 'html.parser')\n",
    "x = bs.findAll('div', {'class': 'idiom-block'})"
   ]
  },
  {
   "cell_type": "code",
   "execution_count": 35,
   "metadata": {},
   "outputs": [
    {
     "data": {
      "text/plain": [
       "<div class=\"idiom-block\"><div class=\"di-title\"><h2 class=\"headword tw-bw dhw dpos-h_hw\"><b>second best</b></h2></div><span class=\"idiom-body didiom-body\">\n",
       "<div class=\"pr dsense dsense-noh\"><div class=\"cid\" id=\"caldzh-cnt-1-1\"></div> <div class=\"sense-body dsense_b\"><div class=\"def-block ddef_block\" data-wl-senseid=\"ID_00028555_06\">\n",
       "<div class=\"dwl hax\">\n",
       "<a amp-access=\"loggedIn\" amp-access-hide=\"\" class=\"dwla wordlist-add-button\" on=\"tap:AMP.setState({ stateGlobal: { wlSenseId: 'ID_00028555_06' } }), sidebarWordList.open\" title=\"Add this meaning to a word list\">\n",
       "<i aria-hidden=\"true\" class=\"i i-plus\"></i>\n",
       "<i class=\"i i-list-ul\"></i>\n",
       "</a>\n",
       "<a amp-access=\"NOT loggedIn\" class=\"dwla wordlist-add-button\" on=\"tap:amp-access.login-sign-in\" title=\"Add this meaning to a word list\">\n",
       "<i aria-hidden=\"true\" class=\"i i-plus\"></i>\n",
       "<i class=\"i i-list-ul\"></i>\n",
       "</a>\n",
       "</div>\n",
       "<div class=\"ddef_h\"><span class=\"def-info ddef-info\"> </span><div class=\"def ddef_d db\">not as good as the <a class=\"query\" href=\"https://dictionary.cambridge.org/dictionary/english-chinese-traditional/best\" title=\"best\">best</a> and <a class=\"query\" href=\"https://dictionary.cambridge.org/dictionary/english-chinese-traditional/therefore\" title=\"therefore\">therefore</a> not <a class=\"query\" href=\"https://dictionary.cambridge.org/dictionary/english-chinese-traditional/wanted\" title=\"wanted\">wanted</a> as much</div> </div><div class=\"def-body ddef_b\">\n",
       "<span class=\"trans dtrans dtrans-se\" lang=\"zh-Hant\">第二好的，僅次於最好的</span>\n",
       "<div class=\"examp dexamp\"> <span class=\"eg deg\">She <a class=\"query\" href=\"https://dictionary.cambridge.org/dictionary/english-chinese-traditional/refuse\" title=\"refuses\">refuses</a> to <span class=\"b db\"><a class=\"query\" href=\"https://dictionary.cambridge.org/dictionary/english-chinese-traditional/settle\" title=\"settle\">settle</a> for</span> second <a class=\"query\" href=\"https://dictionary.cambridge.org/dictionary/english-chinese-traditional/best\" title=\"best\">best</a> - she <a class=\"query\" href=\"https://dictionary.cambridge.org/dictionary/english-chinese-traditional/strive\" title=\"strives\">strives</a> for <a class=\"query\" href=\"https://dictionary.cambridge.org/dictionary/english-chinese-traditional/perfection\" title=\"perfection\">perfection</a>.</span>\n",
       "<span class=\"trans dtrans dtrans-se hdb\" lang=\"zh-Hant\">她不甘第二，努力做到最好。</span>\n",
       "</div> </div></div></div> </div></span></div>"
      ]
     },
     "execution_count": 35,
     "metadata": {},
     "output_type": "execute_result"
    }
   ],
   "source": [
    "x[1]"
   ]
  }
 ],
 "metadata": {
  "kernelspec": {
   "display_name": "Python 3",
   "language": "python",
   "name": "python3"
  },
  "language_info": {
   "codemirror_mode": {
    "name": "ipython",
    "version": 3
   },
   "file_extension": ".py",
   "mimetype": "text/x-python",
   "name": "python",
   "nbconvert_exporter": "python",
   "pygments_lexer": "ipython3",
   "version": "3.6.10"
  }
 },
 "nbformat": 4,
 "nbformat_minor": 4
}
