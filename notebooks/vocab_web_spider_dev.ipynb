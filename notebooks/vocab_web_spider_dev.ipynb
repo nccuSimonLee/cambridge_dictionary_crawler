{
 "cells": [
  {
   "cell_type": "code",
   "execution_count": 31,
   "metadata": {},
   "outputs": [],
   "source": [
    "import os\n",
    "import requests\n",
    "from bs4 import BeautifulSoup\n",
    "import json"
   ]
  },
  {
   "cell_type": "code",
   "execution_count": 2,
   "metadata": {},
   "outputs": [],
   "source": [
    "with open('../extendURLs.txt', 'r') as f:\n",
    "    extend_urls = eval(f.read())"
   ]
  },
  {
   "cell_type": "code",
   "execution_count": 124,
   "metadata": {},
   "outputs": [],
   "source": [
    "vocab = 'zip'\n",
    "home_url = 'https://dictionary.cambridge.org/dictionary/english-chinese-traditional'\n",
    "res = requests.get(os.path.join(home_url, vocab))\n",
    "bs = BeautifulSoup(res.text, 'html.parser')"
   ]
  },
  {
   "cell_type": "code",
   "execution_count": 54,
   "metadata": {},
   "outputs": [],
   "source": [
    "def fetch_pos_blocks(soup):\n",
    "    pos_blocks = bs.select('div.entry-body__el')\n",
    "    return pos_blocks\n",
    "\n",
    "def fetch_pos_tag(pos_block):\n",
    "    header_block = pos_block.select('.pos-header')[0]\n",
    "    pos_tag = header_block.select('.pos')[0].text\n",
    "    return pos_tag\n",
    "\n",
    "def fetch_big_sense_blocks(pos_block):\n",
    "    body_block = pos_block.select('.pos-body')[0]\n",
    "    big_sense_blocks = body_block.select('.dsense')\n",
    "    return big_sense_blocks\n",
    "\n",
    "def fetch_guide_word(big_sense_block):\n",
    "    if 'dsense-noh' in big_sense_block['class']:\n",
    "        return ''\n",
    "    header_block = big_sense_block.select('.dsense_h')[0]\n",
    "    guide_word = header_block.select('.dsense_gw')[0].text.strip()\n",
    "    return guide_word\n",
    "\n",
    "def fetch_sense_blocks(big_sense_block):\n",
    "    body_block = big_sense_block.select('.dsense_b')[0]\n",
    "    sense_blocks = body_block.select('.ddef_block')\n",
    "    return sense_blocks\n",
    "\n",
    "def fetch_extra_examples(big_sense_block):\n",
    "    extra_ex_block = big_sense_block.select('.daccord')\n",
    "    if extra_ex_block:\n",
    "        extra_examples = [exp_block.text\n",
    "                          for exp_block in extra_ex_block[0].select('li.dexamp')]\n",
    "    else:\n",
    "        extra_examples = []\n",
    "    return extra_examples\n",
    "\n",
    "# TODO: 研究如何從 sense block 中擷取 data"
   ]
  },
  {
   "cell_type": "code",
   "execution_count": 125,
   "metadata": {},
   "outputs": [],
   "source": [
    "pos_blocks = fetch_pos_blocks(bs)\n",
    "big_sense_blocks = fetch_big_sense_blocks(pos_blocks[0])"
   ]
  },
  {
   "cell_type": "code",
   "execution_count": 136,
   "metadata": {},
   "outputs": [
    {
     "data": {
      "text/plain": [
       "'(DEVICE)'"
      ]
     },
     "execution_count": 136,
     "metadata": {},
     "output_type": "execute_result"
    }
   ],
   "source": [
    "fetch_guide_word(big_sense_blocks[0])"
   ]
  },
  {
   "cell_type": "code",
   "execution_count": 135,
   "metadata": {},
   "outputs": [
    {
     "data": {
      "text/plain": [
       "[]"
      ]
     },
     "execution_count": 135,
     "metadata": {},
     "output_type": "execute_result"
    }
   ],
   "source": [
    "fetch_extra_examples(big_sense_blocks[2])"
   ]
  },
  {
   "cell_type": "code",
   "execution_count": 59,
   "metadata": {},
   "outputs": [
    {
     "name": "stdout",
     "output_type": "stream",
     "text": [
      "noun\n"
     ]
    }
   ],
   "source": [
    "for pos_block in fetch_pos_blocks(bs):\n",
    "    print(fetch_pos_tag(pos_block))"
   ]
  },
  {
   "cell_type": "code",
   "execution_count": 2,
   "metadata": {},
   "outputs": [],
   "source": [
    "with open('/home/old/fun/crawling-cambridge-dictionary/cambridge.word.666.json', 'r') as f:\n",
    "    camb_dict = json.load(f)"
   ]
  },
  {
   "cell_type": "code",
   "execution_count": 26,
   "metadata": {},
   "outputs": [
    {
     "name": "stdout",
     "output_type": "stream",
     "text": [
      "------------------------------------\n"
     ]
    }
   ],
   "source": [
    "res = requests.get('https://dictionary.cambridge.org/dictionary/english-chinese-traditional/bank')\n",
    "soup = BeautifulSoup(res.text, 'html.parser')\n",
    "extract_phrase(soup)"
   ]
  },
  {
   "cell_type": "code",
   "execution_count": 27,
   "metadata": {},
   "outputs": [
    {
     "data": {
      "text/plain": [
       "defaultdict(<function __main__.<lambda>()>, {})"
      ]
     },
     "execution_count": 27,
     "metadata": {},
     "output_type": "execute_result"
    }
   ],
   "source": [
    "cam_dict"
   ]
  }
 ],
 "metadata": {
  "kernelspec": {
   "display_name": "Python 3",
   "language": "python",
   "name": "python3"
  },
  "language_info": {
   "codemirror_mode": {
    "name": "ipython",
    "version": 3
   },
   "file_extension": ".py",
   "mimetype": "text/x-python",
   "name": "python",
   "nbconvert_exporter": "python",
   "pygments_lexer": "ipython3",
   "version": "3.6.10"
  }
 },
 "nbformat": 4,
 "nbformat_minor": 4
}
